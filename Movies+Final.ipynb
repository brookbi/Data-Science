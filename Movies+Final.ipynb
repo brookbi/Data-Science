{
 "cells": [
  {
   "cell_type": "code",
   "execution_count": 1,
   "metadata": {
    "collapsed": true
   },
   "outputs": [],
   "source": [
    "#In this dataset, I dissected a large group of movies and searched for the factors that resulted in profitability (defined as\n",
    "#Box Office Gross / Budget). Before creating linear regression models to try to predict profitability of new movies that would \n",
    "#be release, I analyzed the effect that different variables had on the overall profitability of movies. These variables include:\n",
    "\n",
    "# Number of famous actors (defined from a mass polling site with > 1 million votes)\n",
    "# Celebrity of famous directors (defined from a mass polling site with > 300k votes)\n",
    "# Timing of movie release (e.g. Seasonality)\n",
    "# Length of movie (runtime)\n",
    "\n",
    "#Some interesting trends that became apparent right off the bat: \n",
    "\n",
    "# More movies appear to be unsuccessful than successful\n",
    "    # Median profitability is 81 cents on the dollar -> movies_short['Profitability_Ratio'].median() = 0.809\n",
    "# Famous actors are correlated with better odds of making a successful movie, though not a significant predictor [line 63]\n",
    "# While movies in the fall post bigger revenues, movies in the summer are actually more profitable [line 50] \n",
    "# A greater proportion of shorter movies are unprofitable compared to longer ones [line 57]\n",
    "# Size of budget and IMDB rating are the most significant predictors of profitability [line 125]\n",
    "\n",
    "\n",
    "\n",
    "\n",
    "\n",
    "#Read on for the resulting visualizations and conclusions.\n",
    "\n"
   ]
  },
  {
   "cell_type": "code",
   "execution_count": 2,
   "metadata": {
    "collapsed": true
   },
   "outputs": [],
   "source": [
    "# The linear regression model was initially trained with these variables, as well as: \n",
    "\n",
    "# Genre of movie (represented as a series of dummy variables)\n",
    "# Censorship rating of movie (represented as a series of dummy variables) \n",
    "\n",
    "\n",
    "\n",
    "# To make a post-release model of movies, I trained an additional model with the extra variables: \n",
    "\n",
    "# Rating on imdb ('imdb_rating')\n",
    "# * Awards won ('Oscars')"
   ]
  },
  {
   "cell_type": "code",
   "execution_count": 3,
   "metadata": {
    "collapsed": true
   },
   "outputs": [],
   "source": [
    "#Import everything#\n",
    "import pandas as pd\n",
    "import matplotlib.pyplot as plt \n",
    "import seaborn as sns\n",
    "import numpy as np\n"
   ]
  },
  {
   "cell_type": "code",
   "execution_count": 4,
   "metadata": {},
   "outputs": [
    {
     "data": {
      "text/html": [
       "<div>\n",
       "<style>\n",
       "    .dataframe thead tr:only-child th {\n",
       "        text-align: right;\n",
       "    }\n",
       "\n",
       "    .dataframe thead th {\n",
       "        text-align: left;\n",
       "    }\n",
       "\n",
       "    .dataframe tbody tr th {\n",
       "        vertical-align: top;\n",
       "    }\n",
       "</style>\n",
       "<table border=\"1\" class=\"dataframe\">\n",
       "  <thead>\n",
       "    <tr style=\"text-align: right;\">\n",
       "      <th></th>\n",
       "      <th>imdbid</th>\n",
       "      <th>title</th>\n",
       "      <th>plot</th>\n",
       "      <th>rating</th>\n",
       "      <th>imdb_rating</th>\n",
       "      <th>metacritic</th>\n",
       "      <th>dvd_release</th>\n",
       "      <th>production</th>\n",
       "      <th>actors</th>\n",
       "      <th>imdb_votes</th>\n",
       "      <th>poster</th>\n",
       "      <th>director</th>\n",
       "      <th>release_date</th>\n",
       "      <th>runtime</th>\n",
       "      <th>genre</th>\n",
       "      <th>awards</th>\n",
       "      <th>keywords</th>\n",
       "      <th>Budget</th>\n",
       "      <th>Box Office Gross</th>\n",
       "    </tr>\n",
       "  </thead>\n",
       "  <tbody>\n",
       "    <tr>\n",
       "      <th>0</th>\n",
       "      <td>tt0010323</td>\n",
       "      <td>The Cabinet of Dr. Caligari</td>\n",
       "      <td>Hypnotist Dr. Caligari uses a somnambulist, Ce...</td>\n",
       "      <td>UNRATED</td>\n",
       "      <td>8.1</td>\n",
       "      <td>NaN</td>\n",
       "      <td>15-Oct-97</td>\n",
       "      <td>Rialto Pictures</td>\n",
       "      <td>Werner Krauss, Conrad Veidt, Friedrich Feher, ...</td>\n",
       "      <td>42,583</td>\n",
       "      <td>https://images-na.ssl-images-amazon.com/images...</td>\n",
       "      <td>Robert Wiene</td>\n",
       "      <td>19-Mar-21</td>\n",
       "      <td>67 min</td>\n",
       "      <td>Fantasy, Horror, Mystery</td>\n",
       "      <td>1 nomination.</td>\n",
       "      <td>expressionism|somnambulist|avant-garde|hypnosi...</td>\n",
       "      <td>18000</td>\n",
       "      <td>NaN</td>\n",
       "    </tr>\n",
       "    <tr>\n",
       "      <th>1</th>\n",
       "      <td>tt0052893</td>\n",
       "      <td>Hiroshima Mon Amour</td>\n",
       "      <td>A French actress filming an anti-war film in H...</td>\n",
       "      <td>NOT RATED</td>\n",
       "      <td>8.0</td>\n",
       "      <td>NaN</td>\n",
       "      <td>24-Jun-03</td>\n",
       "      <td>Rialto Pictures</td>\n",
       "      <td>Emmanuelle Riva, Eiji Okada, Stella Dassas, Pi...</td>\n",
       "      <td>21,154</td>\n",
       "      <td>https://images-na.ssl-images-amazon.com/images...</td>\n",
       "      <td>Alain Resnais</td>\n",
       "      <td>16-May-60</td>\n",
       "      <td>90 min</td>\n",
       "      <td>Drama, Romance</td>\n",
       "      <td>Nominated for 1 Oscar. Another 6 wins &amp; 5 nomi...</td>\n",
       "      <td>memory|atomic-bomb|lovers-separation|impossibl...</td>\n",
       "      <td>88300</td>\n",
       "      <td>NaN</td>\n",
       "    </tr>\n",
       "    <tr>\n",
       "      <th>2</th>\n",
       "      <td>tt0058898</td>\n",
       "      <td>Alphaville</td>\n",
       "      <td>A U.S. secret agent is sent to the distant spa...</td>\n",
       "      <td>NOT RATED</td>\n",
       "      <td>7.2</td>\n",
       "      <td>NaN</td>\n",
       "      <td>20-Oct-98</td>\n",
       "      <td>Rialto Pictures</td>\n",
       "      <td>Eddie Constantine, Anna Karina, Akim Tamiroff</td>\n",
       "      <td>17,801</td>\n",
       "      <td>https://images-na.ssl-images-amazon.com/images...</td>\n",
       "      <td>Jean-Luc Godard</td>\n",
       "      <td>5-May-65</td>\n",
       "      <td>99 min</td>\n",
       "      <td>Drama, Mystery, Sci-Fi</td>\n",
       "      <td>1 win.</td>\n",
       "      <td>dystopia|french-new-wave|satire|comic-violence...</td>\n",
       "      <td>220000</td>\n",
       "      <td>46585</td>\n",
       "    </tr>\n",
       "    <tr>\n",
       "      <th>3</th>\n",
       "      <td>tt0074252</td>\n",
       "      <td>Ugly, Dirty and Bad</td>\n",
       "      <td>Four generations of a family live crowded toge...</td>\n",
       "      <td>NaN</td>\n",
       "      <td>7.9</td>\n",
       "      <td>NaN</td>\n",
       "      <td>1-Nov-16</td>\n",
       "      <td>Compagnia Cinematografica Champion</td>\n",
       "      <td>Nino Manfredi, Maria Luisa Santella, Francesco...</td>\n",
       "      <td>5,705</td>\n",
       "      <td>https://images-na.ssl-images-amazon.com/images...</td>\n",
       "      <td>Ettore Scola</td>\n",
       "      <td>23-Sep-76</td>\n",
       "      <td>115 min</td>\n",
       "      <td>Comedy, Drama</td>\n",
       "      <td>1 win &amp; 2 nominations.</td>\n",
       "      <td>incest|failed-murder-attempt|poisoned-food|bap...</td>\n",
       "      <td>6590</td>\n",
       "      <td>NaN</td>\n",
       "    </tr>\n",
       "    <tr>\n",
       "      <th>4</th>\n",
       "      <td>tt0084269</td>\n",
       "      <td>Losing Ground</td>\n",
       "      <td>A comedy-drama about a Black American female p...</td>\n",
       "      <td>NaN</td>\n",
       "      <td>6.3</td>\n",
       "      <td>NaN</td>\n",
       "      <td>NaN</td>\n",
       "      <td>Milestone Film &amp; Video</td>\n",
       "      <td>Billie Allen, Gary Bolling, Clarence Branch Jr...</td>\n",
       "      <td>132</td>\n",
       "      <td>https://images-na.ssl-images-amazon.com/images...</td>\n",
       "      <td>Kathleen Collins</td>\n",
       "      <td>1-Jun-82</td>\n",
       "      <td>86 min</td>\n",
       "      <td>Comedy, Drama</td>\n",
       "      <td>NaN</td>\n",
       "      <td>artist|painter|marriage|black-independent-film...</td>\n",
       "      <td>NaN</td>\n",
       "      <td>NaN</td>\n",
       "    </tr>\n",
       "  </tbody>\n",
       "</table>\n",
       "</div>"
      ],
      "text/plain": [
       "      imdbid                        title  \\\n",
       "0  tt0010323  The Cabinet of Dr. Caligari   \n",
       "1  tt0052893          Hiroshima Mon Amour   \n",
       "2  tt0058898                   Alphaville   \n",
       "3  tt0074252          Ugly, Dirty and Bad   \n",
       "4  tt0084269                Losing Ground   \n",
       "\n",
       "                                                plot     rating  imdb_rating  \\\n",
       "0  Hypnotist Dr. Caligari uses a somnambulist, Ce...    UNRATED          8.1   \n",
       "1  A French actress filming an anti-war film in H...  NOT RATED          8.0   \n",
       "2  A U.S. secret agent is sent to the distant spa...  NOT RATED          7.2   \n",
       "3  Four generations of a family live crowded toge...        NaN          7.9   \n",
       "4  A comedy-drama about a Black American female p...        NaN          6.3   \n",
       "\n",
       "   metacritic dvd_release                          production  \\\n",
       "0         NaN   15-Oct-97                     Rialto Pictures   \n",
       "1         NaN   24-Jun-03                     Rialto Pictures   \n",
       "2         NaN   20-Oct-98                     Rialto Pictures   \n",
       "3         NaN    1-Nov-16  Compagnia Cinematografica Champion   \n",
       "4         NaN         NaN              Milestone Film & Video   \n",
       "\n",
       "                                              actors imdb_votes  \\\n",
       "0  Werner Krauss, Conrad Veidt, Friedrich Feher, ...     42,583   \n",
       "1  Emmanuelle Riva, Eiji Okada, Stella Dassas, Pi...     21,154   \n",
       "2      Eddie Constantine, Anna Karina, Akim Tamiroff     17,801   \n",
       "3  Nino Manfredi, Maria Luisa Santella, Francesco...      5,705   \n",
       "4  Billie Allen, Gary Bolling, Clarence Branch Jr...        132   \n",
       "\n",
       "                                              poster          director  \\\n",
       "0  https://images-na.ssl-images-amazon.com/images...      Robert Wiene   \n",
       "1  https://images-na.ssl-images-amazon.com/images...     Alain Resnais   \n",
       "2  https://images-na.ssl-images-amazon.com/images...   Jean-Luc Godard   \n",
       "3  https://images-na.ssl-images-amazon.com/images...      Ettore Scola   \n",
       "4  https://images-na.ssl-images-amazon.com/images...  Kathleen Collins   \n",
       "\n",
       "  release_date  runtime                     genre  \\\n",
       "0    19-Mar-21   67 min  Fantasy, Horror, Mystery   \n",
       "1    16-May-60   90 min            Drama, Romance   \n",
       "2     5-May-65   99 min    Drama, Mystery, Sci-Fi   \n",
       "3    23-Sep-76  115 min             Comedy, Drama   \n",
       "4     1-Jun-82   86 min             Comedy, Drama   \n",
       "\n",
       "                                              awards  \\\n",
       "0                                      1 nomination.   \n",
       "1  Nominated for 1 Oscar. Another 6 wins & 5 nomi...   \n",
       "2                                             1 win.   \n",
       "3                             1 win & 2 nominations.   \n",
       "4                                                NaN   \n",
       "\n",
       "                                            keywords  Budget Box Office Gross  \n",
       "0  expressionism|somnambulist|avant-garde|hypnosi...   18000              NaN  \n",
       "1  memory|atomic-bomb|lovers-separation|impossibl...   88300              NaN  \n",
       "2  dystopia|french-new-wave|satire|comic-violence...  220000            46585  \n",
       "3  incest|failed-murder-attempt|poisoned-food|bap...    6590              NaN  \n",
       "4  artist|painter|marriage|black-independent-film...     NaN              NaN  "
      ]
     },
     "execution_count": 4,
     "metadata": {},
     "output_type": "execute_result"
    }
   ],
   "source": [
    "#Bring in the Movies#\n",
    "movies = pd.read_csv(\"C:/Movies/Raw Movie Data.csv\")\n",
    "movies.head()"
   ]
  },
  {
   "cell_type": "code",
   "execution_count": 5,
   "metadata": {
    "collapsed": true
   },
   "outputs": [],
   "source": [
    "#Set Index\n",
    "movies = movies.set_index('title')\n"
   ]
  },
  {
   "cell_type": "code",
   "execution_count": 6,
   "metadata": {
    "collapsed": true
   },
   "outputs": [],
   "source": [
    "#Drop Extra Columns\n",
    "movies_short = movies.drop(['production', 'metacritic', 'dvd_release', 'imdbid', 'poster', 'keywords', 'imdb_votes'], axis=1)\n"
   ]
  },
  {
   "cell_type": "code",
   "execution_count": 7,
   "metadata": {
    "collapsed": true
   },
   "outputs": [],
   "source": [
    "#Drop rows without Money info, and drop \"plot\"\n",
    "movies_short = movies_short[pd.notnull(movies_short['Box Office Gross'])]\n",
    "movies_short = movies_short[pd.notnull(movies_short['Budget'])]\n",
    "movies_short = movies_short.drop('plot', axis=1)\n"
   ]
  },
  {
   "cell_type": "code",
   "execution_count": 8,
   "metadata": {
    "collapsed": true
   },
   "outputs": [],
   "source": [
    "#Remove gunk from Box Office and Budget Columns\n",
    "# 'fake' is just a placeholder because I couldn't figure out what to do for an empty \"if:\" section here\n",
    "fake = 0\n",
    "idx = 0 \n",
    "for gross in movies_short['Box Office Gross'] : \n",
    "    \n",
    "    if gross.isdigit() :\n",
    "        fake += 1\n",
    "    else :\n",
    "        movies_short.iloc[idx, 9] = np.nan   \n",
    "    idx += 1"
   ]
  },
  {
   "cell_type": "code",
   "execution_count": 9,
   "metadata": {},
   "outputs": [
    {
     "name": "stdout",
     "output_type": "stream",
     "text": [
      "5253\n"
     ]
    }
   ],
   "source": [
    "idx = 0 \n",
    "for movies in movies_short['Budget'] : \n",
    "    \n",
    "    if gross.isdigit() :\n",
    "        fake += 1\n",
    "    else :\n",
    "        movies_short.iloc[idx, 8] = np.nan   \n",
    "    idx += 1\n",
    "    \n",
    "print(fake)"
   ]
  },
  {
   "cell_type": "code",
   "execution_count": 10,
   "metadata": {
    "collapsed": true
   },
   "outputs": [],
   "source": [
    "#Make column for profitability Ratio and Define It\n",
    "\n",
    "\n",
    "movies_short['Profitability Ratio'] = 0 \n",
    "\n",
    "idx = 0 \n",
    "for movies in movies_short['Profitability Ratio'] : \n",
    "    movies_short.iloc[idx, 10] = float(movies_short.iloc[idx, 9]) / float(movies_short.iloc[idx, 8])\n",
    "   \n",
    "    idx += 1"
   ]
  },
  {
   "cell_type": "code",
   "execution_count": 11,
   "metadata": {
    "collapsed": true
   },
   "outputs": [],
   "source": [
    "#Upload Famous Actors and Make a column\n",
    "\n",
    "famous_actors = pd.read_csv(\"C:/Movies/Greatest Actors List.csv\")\n",
    "#df = df[np.isfinite(df['EPS'])]\n"
   ]
  },
  {
   "cell_type": "code",
   "execution_count": 12,
   "metadata": {
    "collapsed": true,
    "scrolled": false
   },
   "outputs": [],
   "source": [
    "movies_short['actor_score'] = 0\n",
    "\n",
    "pos = -1\n",
    "for actors in movies_short['actors'] :\n",
    "    actors = str(actors).split(',')\n",
    "    pos += 1\n",
    "    \n",
    "    for actor in actors :\n",
    "        actor = actor.strip()\n",
    "        \n",
    "        if actor in famous_actors['Name'].tolist() :\n",
    "           \n",
    "            movies_short.iloc[pos, 11] += 1 \n",
    "            "
   ]
  },
  {
   "cell_type": "code",
   "execution_count": 13,
   "metadata": {
    "collapsed": true
   },
   "outputs": [],
   "source": [
    "#Uploading and prepping the famous directors list\n",
    "\n",
    "famous_directors = pd.read_csv(\"C:/Movies/Greatest Directors List.csv\")\n",
    "\n",
    "first_ten = famous_directors['Name'][0:10]\n",
    "second_ten = famous_directors['Name'][11:20]\n",
    "third_ten = famous_directors['Name'][21:30]\n",
    "fourth_ten = famous_directors['Name'][31:40]\n",
    "fifth_ten = famous_directors['Name'][41:50]\n",
    "\n",
    "first_ten = first_ten.tolist()\n",
    "second_ten = second_ten.tolist()\n",
    "third_ten = third_ten.tolist()\n",
    "fourth_ten = fourth_ten.tolist()\n",
    "fifth_ten = fifth_ten.tolist()"
   ]
  },
  {
   "cell_type": "code",
   "execution_count": 14,
   "metadata": {
    "collapsed": true
   },
   "outputs": [],
   "source": [
    "movies_short['director_score'] = 0\n",
    "        \n",
    "pos = -1\n",
    "for directors in movies_short['director'] :\n",
    "    directors = str(directors)\n",
    "    pos += 1\n",
    "    \n",
    "        \n",
    "    if directors in first_ten :\n",
    "           \n",
    "        movies_short.iloc[pos, 12] += 5\n",
    "    \n",
    "    if directors in second_ten :\n",
    "           \n",
    "        movies_short.iloc[pos, 12] += 4\n",
    "        \n",
    "    if directors in third_ten :\n",
    "           \n",
    "        movies_short.iloc[pos, 12] += 3\n",
    "        \n",
    "    if directors in fourth_ten :\n",
    "           \n",
    "        movies_short.iloc[pos, 12] += 2\n",
    "        \n",
    "    if directors in fifth_ten :\n",
    "           \n",
    "        movies_short.iloc[pos, 12] += 1\n",
    "        "
   ]
  },
  {
   "cell_type": "code",
   "execution_count": 15,
   "metadata": {
    "collapsed": true
   },
   "outputs": [],
   "source": [
    "#Make Genre Columns\n",
    "movies_short['Action?'] = 0 \n",
    "movies_short['Adventure?'] = 0\n",
    "movies_short['Animation?'] = 0 \n",
    "movies_short['Biography?'] = 0 \n",
    "movies_short['Comedy?'] = 0 \n",
    "movies_short['Drama?'] = 0 \n",
    "movies_short['Family?'] = 0 \n",
    "movies_short['Fantasy?'] = 0\n",
    "movies_short['History?'] = 0 \n",
    "movies_short['Horror?'] = 0 \n",
    "movies_short['Mystery?'] = 0 \n",
    "movies_short['Romance?'] = 0 \n",
    "movies_short['Sci-Fi?'] = 0 \n",
    "movies_short['Thriller?'] = 0 \n"
   ]
  },
  {
   "cell_type": "code",
   "execution_count": 16,
   "metadata": {
    "collapsed": true
   },
   "outputs": [],
   "source": [
    "#Assign Genre Column Values\n",
    "pos = -1\n",
    "for genres in movies_short['genre'] :\n",
    "    genres = str(genres).split(',')\n",
    "    pos += 1\n",
    "    \n",
    "    for genre in genres :\n",
    "        if 'Action' in genre.strip() :\n",
    "            movies_short.iloc[pos, 13] += 1\n",
    "            \n",
    "        if 'Adventure' in genre.strip():\n",
    "            movies_short.iloc[pos, 14] += 1\n",
    "            \n",
    "        if 'Animation' in genre.strip():\n",
    "            movies_short.iloc[pos, 15] += 1\n",
    "            \n",
    "        if 'Biography' in genre.strip():\n",
    "            movies_short.iloc[pos, 16] += 1\n",
    "            \n",
    "        if 'Comedy' in genre.strip():\n",
    "            movies_short.iloc[pos, 17] += 1\n",
    "            \n",
    "        if 'Drama' in genre.strip():\n",
    "            movies_short.iloc[pos, 18] += 1\n",
    "            \n",
    "        if 'Family' in genre.strip():\n",
    "            movies_short.iloc[pos, 19] += 1\n",
    "            \n",
    "        if 'Fantasy' in genre.strip() :\n",
    "            movies_short.iloc[pos, 20] += 1\n",
    "            \n",
    "        if 'History' in genre.strip():\n",
    "            movies_short.iloc[pos, 21] += 1\n",
    "            \n",
    "        if 'Horror' in genre.strip():\n",
    "            movies_short.iloc[pos, 22] += 1\n",
    "            \n",
    "        if 'Mystery' in genre.strip():\n",
    "            movies_short.iloc[pos, 23] += 1\n",
    "            \n",
    "        if 'Romance' in genre.strip():\n",
    "            movies_short.iloc[pos, 24] += 1\n",
    "            \n",
    "        if 'Sci-Fi' in genre.strip():\n",
    "            movies_short.iloc[pos, 25] += 1\n",
    "            \n",
    "        if 'Thriller' in genre.strip() :\n",
    "            movies_short.iloc[pos, 26] += 1\n",
    "            \n",
    "        "
   ]
  },
  {
   "cell_type": "code",
   "execution_count": 17,
   "metadata": {
    "collapsed": true,
    "scrolled": true
   },
   "outputs": [],
   "source": [
    "#Make MPAA Rating Columns\n",
    "\n",
    "movies_short['G?'] = 0 \n",
    "movies_short['PG?'] = 0\n",
    "movies_short['PG-13?'] = 0 \n",
    "movies_short['R?'] = 0 \n",
    "movies_short['Not Rated?'] = 0 \n",
    "\n"
   ]
  },
  {
   "cell_type": "code",
   "execution_count": 18,
   "metadata": {
    "collapsed": true
   },
   "outputs": [],
   "source": [
    "#Assign MPAA Rating Column Values\n",
    "pos = 0\n",
    "for ratings in movies_short['rating'] :\n",
    "    ratings = str(ratings).strip()\n",
    "    \n",
    "    if ratings == 'G' :\n",
    "        movies_short.iloc[pos, 27] += 1\n",
    "        \n",
    "    elif ratings == 'PG' :\n",
    "        movies_short.iloc[pos, 28] += 1\n",
    "        \n",
    "    elif ratings == 'PG-13' :\n",
    "        movies_short.iloc[pos, 29] += 1\n",
    "        \n",
    "    elif ratings == 'R' :\n",
    "        movies_short.iloc[pos, 30] += 1\n",
    "        \n",
    "    else :\n",
    "        movies_short.iloc[pos, 31] += 1\n",
    "    \n",
    "    pos += 1\n",
    "    \n",
    "    \n",
    "    "
   ]
  },
  {
   "cell_type": "code",
   "execution_count": 19,
   "metadata": {
    "collapsed": true,
    "scrolled": false
   },
   "outputs": [],
   "source": [
    "#Fix Datetimes\n",
    "\n",
    "from datetime import datetime\n",
    "from dateutil.parser import parse\n",
    "pos = 0\n",
    "for cell in movies_short['release_date'] :\n",
    "        #parse(str(cell))\n",
    "    if type(cell) == str : \n",
    "        movies_short.iloc[pos, 4] = parse(cell)\n",
    "    else : \n",
    "        movies_short.iloc[pos, 4] = np.nan\n",
    "    pos += 1    \n",
    "   \n",
    "        \n"
   ]
  },
  {
   "cell_type": "code",
   "execution_count": 20,
   "metadata": {
    "scrolled": true
   },
   "outputs": [
    {
     "data": {
      "text/html": [
       "<div>\n",
       "<style>\n",
       "    .dataframe thead tr:only-child th {\n",
       "        text-align: right;\n",
       "    }\n",
       "\n",
       "    .dataframe thead th {\n",
       "        text-align: left;\n",
       "    }\n",
       "\n",
       "    .dataframe tbody tr th {\n",
       "        vertical-align: top;\n",
       "    }\n",
       "</style>\n",
       "<table border=\"1\" class=\"dataframe\">\n",
       "  <thead>\n",
       "    <tr style=\"text-align: right;\">\n",
       "      <th></th>\n",
       "      <th>rating</th>\n",
       "      <th>imdb_rating</th>\n",
       "      <th>actors</th>\n",
       "      <th>director</th>\n",
       "      <th>release_date</th>\n",
       "      <th>runtime</th>\n",
       "      <th>genre</th>\n",
       "      <th>awards</th>\n",
       "      <th>Budget</th>\n",
       "      <th>Box Office Gross</th>\n",
       "      <th>...</th>\n",
       "      <th>Horror?</th>\n",
       "      <th>Mystery?</th>\n",
       "      <th>Romance?</th>\n",
       "      <th>Sci-Fi?</th>\n",
       "      <th>Thriller?</th>\n",
       "      <th>G?</th>\n",
       "      <th>PG?</th>\n",
       "      <th>PG-13?</th>\n",
       "      <th>R?</th>\n",
       "      <th>Not Rated?</th>\n",
       "    </tr>\n",
       "    <tr>\n",
       "      <th>title</th>\n",
       "      <th></th>\n",
       "      <th></th>\n",
       "      <th></th>\n",
       "      <th></th>\n",
       "      <th></th>\n",
       "      <th></th>\n",
       "      <th></th>\n",
       "      <th></th>\n",
       "      <th></th>\n",
       "      <th></th>\n",
       "      <th></th>\n",
       "      <th></th>\n",
       "      <th></th>\n",
       "      <th></th>\n",
       "      <th></th>\n",
       "      <th></th>\n",
       "      <th></th>\n",
       "      <th></th>\n",
       "      <th></th>\n",
       "      <th></th>\n",
       "      <th></th>\n",
       "    </tr>\n",
       "  </thead>\n",
       "  <tbody>\n",
       "    <tr>\n",
       "      <th>Alphaville</th>\n",
       "      <td>NOT RATED</td>\n",
       "      <td>7.2</td>\n",
       "      <td>Eddie Constantine, Anna Karina, Akim Tamiroff</td>\n",
       "      <td>Jean-Luc Godard</td>\n",
       "      <td>2065-05-05 00:00:00</td>\n",
       "      <td>99 min</td>\n",
       "      <td>Drama, Mystery, Sci-Fi</td>\n",
       "      <td>1 win.</td>\n",
       "      <td>220000</td>\n",
       "      <td>46585</td>\n",
       "      <td>...</td>\n",
       "      <td>0</td>\n",
       "      <td>1</td>\n",
       "      <td>0</td>\n",
       "      <td>1</td>\n",
       "      <td>0</td>\n",
       "      <td>0</td>\n",
       "      <td>0</td>\n",
       "      <td>0</td>\n",
       "      <td>0</td>\n",
       "      <td>1</td>\n",
       "    </tr>\n",
       "    <tr>\n",
       "      <th>Ghostbusters</th>\n",
       "      <td>PG</td>\n",
       "      <td>7.8</td>\n",
       "      <td>Bill Murray, Dan Aykroyd, Sigourney Weaver, Ha...</td>\n",
       "      <td>Ivan Reitman</td>\n",
       "      <td>1984-06-08 00:00:00</td>\n",
       "      <td>105 min</td>\n",
       "      <td>Action, Adventure, Comedy</td>\n",
       "      <td>Nominated for 2 Oscars. Another 6 wins &amp; 6 nom...</td>\n",
       "      <td>30000000</td>\n",
       "      <td>238632124</td>\n",
       "      <td>...</td>\n",
       "      <td>0</td>\n",
       "      <td>0</td>\n",
       "      <td>0</td>\n",
       "      <td>0</td>\n",
       "      <td>0</td>\n",
       "      <td>0</td>\n",
       "      <td>1</td>\n",
       "      <td>0</td>\n",
       "      <td>0</td>\n",
       "      <td>0</td>\n",
       "    </tr>\n",
       "    <tr>\n",
       "      <th>Beauty and the Beast</th>\n",
       "      <td>G</td>\n",
       "      <td>8.0</td>\n",
       "      <td>Robby Benson, Jesse Corti, Rex Everhart, Angel...</td>\n",
       "      <td>Gary Trousdale, Kirk Wise</td>\n",
       "      <td>1991-11-22 00:00:00</td>\n",
       "      <td>84 min</td>\n",
       "      <td>Animation, Family, Fantasy</td>\n",
       "      <td>Won 2 Oscars. Another 23 wins &amp; 22 nominations.</td>\n",
       "      <td>25000000</td>\n",
       "      <td>218967620</td>\n",
       "      <td>...</td>\n",
       "      <td>0</td>\n",
       "      <td>0</td>\n",
       "      <td>0</td>\n",
       "      <td>0</td>\n",
       "      <td>0</td>\n",
       "      <td>1</td>\n",
       "      <td>0</td>\n",
       "      <td>0</td>\n",
       "      <td>0</td>\n",
       "      <td>0</td>\n",
       "    </tr>\n",
       "    <tr>\n",
       "      <th>Jurassic Park</th>\n",
       "      <td>PG-13</td>\n",
       "      <td>8.1</td>\n",
       "      <td>Sam Neill, Laura Dern, Jeff Goldblum, Richard ...</td>\n",
       "      <td>Steven Spielberg</td>\n",
       "      <td>1993-06-11 00:00:00</td>\n",
       "      <td>127 min</td>\n",
       "      <td>Adventure, Sci-Fi, Thriller</td>\n",
       "      <td>Won 3 Oscars. Another 28 wins &amp; 17 nominations.</td>\n",
       "      <td>63000000</td>\n",
       "      <td>402453882</td>\n",
       "      <td>...</td>\n",
       "      <td>0</td>\n",
       "      <td>0</td>\n",
       "      <td>0</td>\n",
       "      <td>1</td>\n",
       "      <td>1</td>\n",
       "      <td>0</td>\n",
       "      <td>0</td>\n",
       "      <td>1</td>\n",
       "      <td>0</td>\n",
       "      <td>0</td>\n",
       "    </tr>\n",
       "    <tr>\n",
       "      <th>Forrest Gump</th>\n",
       "      <td>PG-13</td>\n",
       "      <td>8.8</td>\n",
       "      <td>Tom Hanks, Rebecca Williams, Sally Field, Mich...</td>\n",
       "      <td>Robert Zemeckis</td>\n",
       "      <td>1994-07-06 00:00:00</td>\n",
       "      <td>142 min</td>\n",
       "      <td>Comedy, Drama, Romance</td>\n",
       "      <td>Won 6 Oscars. Another 39 wins &amp; 66 nominations.</td>\n",
       "      <td>55000000</td>\n",
       "      <td>330252182</td>\n",
       "      <td>...</td>\n",
       "      <td>0</td>\n",
       "      <td>0</td>\n",
       "      <td>1</td>\n",
       "      <td>0</td>\n",
       "      <td>0</td>\n",
       "      <td>0</td>\n",
       "      <td>0</td>\n",
       "      <td>1</td>\n",
       "      <td>0</td>\n",
       "      <td>0</td>\n",
       "    </tr>\n",
       "  </tbody>\n",
       "</table>\n",
       "<p>5 rows × 32 columns</p>\n",
       "</div>"
      ],
      "text/plain": [
       "                         rating  imdb_rating  \\\n",
       "title                                          \n",
       "Alphaville            NOT RATED          7.2   \n",
       "Ghostbusters                 PG          7.8   \n",
       "Beauty and the Beast          G          8.0   \n",
       "Jurassic Park             PG-13          8.1   \n",
       "Forrest Gump              PG-13          8.8   \n",
       "\n",
       "                                                                 actors  \\\n",
       "title                                                                     \n",
       "Alphaville                Eddie Constantine, Anna Karina, Akim Tamiroff   \n",
       "Ghostbusters          Bill Murray, Dan Aykroyd, Sigourney Weaver, Ha...   \n",
       "Beauty and the Beast  Robby Benson, Jesse Corti, Rex Everhart, Angel...   \n",
       "Jurassic Park         Sam Neill, Laura Dern, Jeff Goldblum, Richard ...   \n",
       "Forrest Gump          Tom Hanks, Rebecca Williams, Sally Field, Mich...   \n",
       "\n",
       "                                       director         release_date  runtime  \\\n",
       "title                                                                           \n",
       "Alphaville                      Jean-Luc Godard  2065-05-05 00:00:00   99 min   \n",
       "Ghostbusters                       Ivan Reitman  1984-06-08 00:00:00  105 min   \n",
       "Beauty and the Beast  Gary Trousdale, Kirk Wise  1991-11-22 00:00:00   84 min   \n",
       "Jurassic Park                  Steven Spielberg  1993-06-11 00:00:00  127 min   \n",
       "Forrest Gump                    Robert Zemeckis  1994-07-06 00:00:00  142 min   \n",
       "\n",
       "                                            genre  \\\n",
       "title                                               \n",
       "Alphaville                 Drama, Mystery, Sci-Fi   \n",
       "Ghostbusters            Action, Adventure, Comedy   \n",
       "Beauty and the Beast   Animation, Family, Fantasy   \n",
       "Jurassic Park         Adventure, Sci-Fi, Thriller   \n",
       "Forrest Gump               Comedy, Drama, Romance   \n",
       "\n",
       "                                                                 awards  \\\n",
       "title                                                                     \n",
       "Alphaville                                                       1 win.   \n",
       "Ghostbusters          Nominated for 2 Oscars. Another 6 wins & 6 nom...   \n",
       "Beauty and the Beast    Won 2 Oscars. Another 23 wins & 22 nominations.   \n",
       "Jurassic Park           Won 3 Oscars. Another 28 wins & 17 nominations.   \n",
       "Forrest Gump            Won 6 Oscars. Another 39 wins & 66 nominations.   \n",
       "\n",
       "                        Budget Box Office Gross     ...      Horror?  \\\n",
       "title                                               ...                \n",
       "Alphaville              220000            46585     ...            0   \n",
       "Ghostbusters          30000000        238632124     ...            0   \n",
       "Beauty and the Beast  25000000        218967620     ...            0   \n",
       "Jurassic Park         63000000        402453882     ...            0   \n",
       "Forrest Gump          55000000        330252182     ...            0   \n",
       "\n",
       "                      Mystery?  Romance?  Sci-Fi?  Thriller?  G?  PG?  PG-13?  \\\n",
       "title                                                                           \n",
       "Alphaville                   1         0        1          0   0    0       0   \n",
       "Ghostbusters                 0         0        0          0   0    1       0   \n",
       "Beauty and the Beast         0         0        0          0   1    0       0   \n",
       "Jurassic Park                0         0        1          1   0    0       1   \n",
       "Forrest Gump                 0         1        0          0   0    0       1   \n",
       "\n",
       "                      R?  Not Rated?  \n",
       "title                                 \n",
       "Alphaville             0           1  \n",
       "Ghostbusters           0           0  \n",
       "Beauty and the Beast   0           0  \n",
       "Jurassic Park          0           0  \n",
       "Forrest Gump           0           0  \n",
       "\n",
       "[5 rows x 32 columns]"
      ]
     },
     "execution_count": 20,
     "metadata": {},
     "output_type": "execute_result"
    }
   ],
   "source": [
    "movies_short.head()\n",
    "#type(movies_short.iloc[0, 4])"
   ]
  },
  {
   "cell_type": "code",
   "execution_count": null,
   "metadata": {
    "collapsed": true
   },
   "outputs": [],
   "source": []
  },
  {
   "cell_type": "code",
   "execution_count": 21,
   "metadata": {},
   "outputs": [
    {
     "name": "stdout",
     "output_type": "stream",
     "text": [
      "6.96075772307686\n"
     ]
    }
   ],
   "source": [
    "print(np.mean(movies_short['Profitability Ratio']))\n",
    "#There are some outliers here that need to be reviewed "
   ]
  },
  {
   "cell_type": "code",
   "execution_count": 22,
   "metadata": {},
   "outputs": [
    {
     "name": "stdout",
     "output_type": "stream",
     "text": [
      "400\n",
      "710\n",
      "738\n",
      "818\n",
      "968\n",
      "1036\n",
      "1166\n",
      "1180\n",
      "1197\n",
      "1201\n",
      "1208\n",
      "1214\n",
      "1228\n",
      "1245\n",
      "1259\n",
      "1594\n",
      "2183\n",
      "2232\n",
      "2409\n"
     ]
    }
   ],
   "source": [
    "pos = 0\n",
    "for ratio in movies_short['Profitability Ratio'] :\n",
    "    if ratio >= 30 :\n",
    "        movies_short.iloc[pos, 10] = np.nan\n",
    "        print(pos)\n",
    "    pos += 1\n",
    "    "
   ]
  },
  {
   "cell_type": "code",
   "execution_count": 23,
   "metadata": {},
   "outputs": [
    {
     "name": "stdout",
     "output_type": "stream",
     "text": [
      "1.538446768751931\n"
     ]
    }
   ],
   "source": [
    "print(np.mean(movies_short['Profitability Ratio']))"
   ]
  },
  {
   "cell_type": "code",
   "execution_count": 24,
   "metadata": {},
   "outputs": [
    {
     "name": "stdout",
     "output_type": "stream",
     "text": [
      "               rating  imdb_rating  \\\n",
      "title                                \n",
      "God's Not Dead     PG          4.9   \n",
      "\n",
      "                                                           actors  \\\n",
      "title                                                               \n",
      "God's Not Dead  Kevin Sorbo, Shane Harper, David A.R. White, D...   \n",
      "\n",
      "                    director         release_date  runtime  genre awards  \\\n",
      "title                                                                      \n",
      "God's Not Dead  Harold Cronk  2014-03-21 00:00:00  113 min  Drama    NaN   \n",
      "\n",
      "                 Budget Box Office Gross     ...      Horror?  Mystery?  \\\n",
      "title                                        ...                          \n",
      "God's Not Dead  2000000         60755732     ...            0         0   \n",
      "\n",
      "                Romance?  Sci-Fi?  Thriller?  G?  PG?  PG-13?  R?  Not Rated?  \n",
      "title                                                                          \n",
      "God's Not Dead         0        0          0   0    1       0   0           0  \n",
      "\n",
      "[1 rows x 32 columns]\n"
     ]
    }
   ],
   "source": [
    "#Fix Movies one by one\n",
    "movies_short.iloc[400, 10] = 102\n",
    "#The Devil Inside, 102mil/1mil \n",
    "\n",
    "\n",
    "print(movies_short[818:819])"
   ]
  },
  {
   "cell_type": "code",
   "execution_count": 25,
   "metadata": {
    "collapsed": true
   },
   "outputs": [],
   "source": [
    "#Convert Box Office Column to Budget and Box Office Gross Columns, slipping through the 13 columns that are "
   ]
  },
  {
   "cell_type": "code",
   "execution_count": 26,
   "metadata": {},
   "outputs": [
    {
     "name": "stdout",
     "output_type": "stream",
     "text": [
      "<class 'int'>\n"
     ]
    }
   ],
   "source": [
    "counter = 0\n",
    "for index in np.arange(len(movies_short['Box Office Gross'])) : \n",
    "    if pd.isnull(movies_short.iloc[index, 9]) == True:\n",
    "        counter += 1\n",
    "    else : \n",
    "        movies_short.iloc[index, 9] = int(movies_short.iloc[index, 9])\n",
    "        \n",
    "print(type(movies_short.iloc[0,9]))  \n"
   ]
  },
  {
   "cell_type": "code",
   "execution_count": 27,
   "metadata": {
    "collapsed": true
   },
   "outputs": [],
   "source": [
    "for index in np.arange(len(movies_short['Budget'])) : \n",
    "    if pd.isnull(movies_short.iloc[index, 8]) == True:\n",
    "        counter += 1\n",
    "    else : \n",
    "        movies_short.iloc[index, 8] = int(movies_short.iloc[index, 8])"
   ]
  },
  {
   "cell_type": "code",
   "execution_count": 28,
   "metadata": {},
   "outputs": [
    {
     "data": {
      "text/html": [
       "<div>\n",
       "<style>\n",
       "    .dataframe thead tr:only-child th {\n",
       "        text-align: right;\n",
       "    }\n",
       "\n",
       "    .dataframe thead th {\n",
       "        text-align: left;\n",
       "    }\n",
       "\n",
       "    .dataframe tbody tr th {\n",
       "        vertical-align: top;\n",
       "    }\n",
       "</style>\n",
       "<table border=\"1\" class=\"dataframe\">\n",
       "  <thead>\n",
       "    <tr style=\"text-align: right;\">\n",
       "      <th></th>\n",
       "      <th>rating</th>\n",
       "      <th>imdb_rating</th>\n",
       "      <th>actors</th>\n",
       "      <th>director</th>\n",
       "      <th>release_date</th>\n",
       "      <th>runtime</th>\n",
       "      <th>genre</th>\n",
       "      <th>awards</th>\n",
       "      <th>Budget</th>\n",
       "      <th>Box Office Gross</th>\n",
       "      <th>...</th>\n",
       "      <th>Horror?</th>\n",
       "      <th>Mystery?</th>\n",
       "      <th>Romance?</th>\n",
       "      <th>Sci-Fi?</th>\n",
       "      <th>Thriller?</th>\n",
       "      <th>G?</th>\n",
       "      <th>PG?</th>\n",
       "      <th>PG-13?</th>\n",
       "      <th>R?</th>\n",
       "      <th>Not Rated?</th>\n",
       "    </tr>\n",
       "    <tr>\n",
       "      <th>title</th>\n",
       "      <th></th>\n",
       "      <th></th>\n",
       "      <th></th>\n",
       "      <th></th>\n",
       "      <th></th>\n",
       "      <th></th>\n",
       "      <th></th>\n",
       "      <th></th>\n",
       "      <th></th>\n",
       "      <th></th>\n",
       "      <th></th>\n",
       "      <th></th>\n",
       "      <th></th>\n",
       "      <th></th>\n",
       "      <th></th>\n",
       "      <th></th>\n",
       "      <th></th>\n",
       "      <th></th>\n",
       "      <th></th>\n",
       "      <th></th>\n",
       "      <th></th>\n",
       "    </tr>\n",
       "  </thead>\n",
       "  <tbody>\n",
       "    <tr>\n",
       "      <th>Alphaville</th>\n",
       "      <td>NOT RATED</td>\n",
       "      <td>7.2</td>\n",
       "      <td>Eddie Constantine, Anna Karina, Akim Tamiroff</td>\n",
       "      <td>Jean-Luc Godard</td>\n",
       "      <td>2065-05-05 00:00:00</td>\n",
       "      <td>99</td>\n",
       "      <td>Drama, Mystery, Sci-Fi</td>\n",
       "      <td>1 win.</td>\n",
       "      <td>220000</td>\n",
       "      <td>46585</td>\n",
       "      <td>...</td>\n",
       "      <td>0</td>\n",
       "      <td>1</td>\n",
       "      <td>0</td>\n",
       "      <td>1</td>\n",
       "      <td>0</td>\n",
       "      <td>0</td>\n",
       "      <td>0</td>\n",
       "      <td>0</td>\n",
       "      <td>0</td>\n",
       "      <td>1</td>\n",
       "    </tr>\n",
       "    <tr>\n",
       "      <th>Ghostbusters</th>\n",
       "      <td>PG</td>\n",
       "      <td>7.8</td>\n",
       "      <td>Bill Murray, Dan Aykroyd, Sigourney Weaver, Ha...</td>\n",
       "      <td>Ivan Reitman</td>\n",
       "      <td>1984-06-08 00:00:00</td>\n",
       "      <td>105</td>\n",
       "      <td>Action, Adventure, Comedy</td>\n",
       "      <td>Nominated for 2 Oscars. Another 6 wins &amp; 6 nom...</td>\n",
       "      <td>30000000</td>\n",
       "      <td>238632124</td>\n",
       "      <td>...</td>\n",
       "      <td>0</td>\n",
       "      <td>0</td>\n",
       "      <td>0</td>\n",
       "      <td>0</td>\n",
       "      <td>0</td>\n",
       "      <td>0</td>\n",
       "      <td>1</td>\n",
       "      <td>0</td>\n",
       "      <td>0</td>\n",
       "      <td>0</td>\n",
       "    </tr>\n",
       "    <tr>\n",
       "      <th>Beauty and the Beast</th>\n",
       "      <td>G</td>\n",
       "      <td>8.0</td>\n",
       "      <td>Robby Benson, Jesse Corti, Rex Everhart, Angel...</td>\n",
       "      <td>Gary Trousdale, Kirk Wise</td>\n",
       "      <td>1991-11-22 00:00:00</td>\n",
       "      <td>84</td>\n",
       "      <td>Animation, Family, Fantasy</td>\n",
       "      <td>Won 2 Oscars. Another 23 wins &amp; 22 nominations.</td>\n",
       "      <td>25000000</td>\n",
       "      <td>218967620</td>\n",
       "      <td>...</td>\n",
       "      <td>0</td>\n",
       "      <td>0</td>\n",
       "      <td>0</td>\n",
       "      <td>0</td>\n",
       "      <td>0</td>\n",
       "      <td>1</td>\n",
       "      <td>0</td>\n",
       "      <td>0</td>\n",
       "      <td>0</td>\n",
       "      <td>0</td>\n",
       "    </tr>\n",
       "    <tr>\n",
       "      <th>Jurassic Park</th>\n",
       "      <td>PG-13</td>\n",
       "      <td>8.1</td>\n",
       "      <td>Sam Neill, Laura Dern, Jeff Goldblum, Richard ...</td>\n",
       "      <td>Steven Spielberg</td>\n",
       "      <td>1993-06-11 00:00:00</td>\n",
       "      <td>127</td>\n",
       "      <td>Adventure, Sci-Fi, Thriller</td>\n",
       "      <td>Won 3 Oscars. Another 28 wins &amp; 17 nominations.</td>\n",
       "      <td>63000000</td>\n",
       "      <td>402453882</td>\n",
       "      <td>...</td>\n",
       "      <td>0</td>\n",
       "      <td>0</td>\n",
       "      <td>0</td>\n",
       "      <td>1</td>\n",
       "      <td>1</td>\n",
       "      <td>0</td>\n",
       "      <td>0</td>\n",
       "      <td>1</td>\n",
       "      <td>0</td>\n",
       "      <td>0</td>\n",
       "    </tr>\n",
       "    <tr>\n",
       "      <th>Forrest Gump</th>\n",
       "      <td>PG-13</td>\n",
       "      <td>8.8</td>\n",
       "      <td>Tom Hanks, Rebecca Williams, Sally Field, Mich...</td>\n",
       "      <td>Robert Zemeckis</td>\n",
       "      <td>1994-07-06 00:00:00</td>\n",
       "      <td>142</td>\n",
       "      <td>Comedy, Drama, Romance</td>\n",
       "      <td>Won 6 Oscars. Another 39 wins &amp; 66 nominations.</td>\n",
       "      <td>55000000</td>\n",
       "      <td>330252182</td>\n",
       "      <td>...</td>\n",
       "      <td>0</td>\n",
       "      <td>0</td>\n",
       "      <td>1</td>\n",
       "      <td>0</td>\n",
       "      <td>0</td>\n",
       "      <td>0</td>\n",
       "      <td>0</td>\n",
       "      <td>1</td>\n",
       "      <td>0</td>\n",
       "      <td>0</td>\n",
       "    </tr>\n",
       "  </tbody>\n",
       "</table>\n",
       "<p>5 rows × 32 columns</p>\n",
       "</div>"
      ],
      "text/plain": [
       "                         rating  imdb_rating  \\\n",
       "title                                          \n",
       "Alphaville            NOT RATED          7.2   \n",
       "Ghostbusters                 PG          7.8   \n",
       "Beauty and the Beast          G          8.0   \n",
       "Jurassic Park             PG-13          8.1   \n",
       "Forrest Gump              PG-13          8.8   \n",
       "\n",
       "                                                                 actors  \\\n",
       "title                                                                     \n",
       "Alphaville                Eddie Constantine, Anna Karina, Akim Tamiroff   \n",
       "Ghostbusters          Bill Murray, Dan Aykroyd, Sigourney Weaver, Ha...   \n",
       "Beauty and the Beast  Robby Benson, Jesse Corti, Rex Everhart, Angel...   \n",
       "Jurassic Park         Sam Neill, Laura Dern, Jeff Goldblum, Richard ...   \n",
       "Forrest Gump          Tom Hanks, Rebecca Williams, Sally Field, Mich...   \n",
       "\n",
       "                                       director         release_date runtime  \\\n",
       "title                                                                          \n",
       "Alphaville                      Jean-Luc Godard  2065-05-05 00:00:00      99   \n",
       "Ghostbusters                       Ivan Reitman  1984-06-08 00:00:00     105   \n",
       "Beauty and the Beast  Gary Trousdale, Kirk Wise  1991-11-22 00:00:00      84   \n",
       "Jurassic Park                  Steven Spielberg  1993-06-11 00:00:00     127   \n",
       "Forrest Gump                    Robert Zemeckis  1994-07-06 00:00:00     142   \n",
       "\n",
       "                                            genre  \\\n",
       "title                                               \n",
       "Alphaville                 Drama, Mystery, Sci-Fi   \n",
       "Ghostbusters            Action, Adventure, Comedy   \n",
       "Beauty and the Beast   Animation, Family, Fantasy   \n",
       "Jurassic Park         Adventure, Sci-Fi, Thriller   \n",
       "Forrest Gump               Comedy, Drama, Romance   \n",
       "\n",
       "                                                                 awards  \\\n",
       "title                                                                     \n",
       "Alphaville                                                       1 win.   \n",
       "Ghostbusters          Nominated for 2 Oscars. Another 6 wins & 6 nom...   \n",
       "Beauty and the Beast    Won 2 Oscars. Another 23 wins & 22 nominations.   \n",
       "Jurassic Park           Won 3 Oscars. Another 28 wins & 17 nominations.   \n",
       "Forrest Gump            Won 6 Oscars. Another 39 wins & 66 nominations.   \n",
       "\n",
       "                        Budget Box Office Gross     ...      Horror?  \\\n",
       "title                                               ...                \n",
       "Alphaville              220000            46585     ...            0   \n",
       "Ghostbusters          30000000        238632124     ...            0   \n",
       "Beauty and the Beast  25000000        218967620     ...            0   \n",
       "Jurassic Park         63000000        402453882     ...            0   \n",
       "Forrest Gump          55000000        330252182     ...            0   \n",
       "\n",
       "                      Mystery?  Romance?  Sci-Fi?  Thriller?  G?  PG?  PG-13?  \\\n",
       "title                                                                           \n",
       "Alphaville                   1         0        1          0   0    0       0   \n",
       "Ghostbusters                 0         0        0          0   0    1       0   \n",
       "Beauty and the Beast         0         0        0          0   1    0       0   \n",
       "Jurassic Park                0         0        1          1   0    0       1   \n",
       "Forrest Gump                 0         1        0          0   0    0       1   \n",
       "\n",
       "                      R?  Not Rated?  \n",
       "title                                 \n",
       "Alphaville             0           1  \n",
       "Ghostbusters           0           0  \n",
       "Beauty and the Beast   0           0  \n",
       "Jurassic Park          0           0  \n",
       "Forrest Gump           0           0  \n",
       "\n",
       "[5 rows x 32 columns]"
      ]
     },
     "execution_count": 28,
     "metadata": {},
     "output_type": "execute_result"
    }
   ],
   "source": [
    "fake = 0 \n",
    "count = 0\n",
    "import re \n",
    "idx = 0 \n",
    "for time in movies_short['runtime'] :\n",
    "    #print(type(time))\n",
    "    if type(time) == str : \n",
    "        new_time = re.findall('\\d+', time)\n",
    "        movies_short.iloc[idx, 5] = int(new_time[0])\n",
    "    elif type(time) == int : \n",
    "        fake += 1 \n",
    "    else : \n",
    "        movies_short.iloc[idx, 5] = 0 \n",
    "        count += 1 \n",
    "    idx += 1 \n",
    "#print(type(movies_short.iloc[0, 5]))\n",
    "\n",
    "movies_short.head()"
   ]
  },
  {
   "cell_type": "code",
   "execution_count": 29,
   "metadata": {},
   "outputs": [
    {
     "name": "stdout",
     "output_type": "stream",
     "text": [
      "1270000000\n",
      "1800000000\n",
      "1250000000\n",
      "10000000000\n",
      "1250000000\n",
      "10000000000\n",
      "1550000000\n",
      "1150000000\n",
      "1300000000\n",
      "30000000000\n"
     ]
    }
   ],
   "source": [
    "#There were some values for budget greater than 10,000,000,000 - which I highly suspect of being a currency error or mistake after \n",
    "#looking at the original dataset. Let's observe what these may be. \n",
    "idx = 0 \n",
    "for lines in movies_short['Budget'] :\n",
    "    if lines>= 900000000 : \n",
    "        print(lines) \n",
    "    #print(lines)\n",
    "    idx += 1"
   ]
  },
  {
   "cell_type": "code",
   "execution_count": 30,
   "metadata": {
    "collapsed": true
   },
   "outputs": [],
   "source": [
    "#Strip letters from string to plot runtimes \n",
    "#Okay so this was much more complicated than initially anticipated but my overall strategy here is to \n",
    "#Filter through a regular expression, which leaves me with an array ['XX'] which then is stripped down\n",
    "#to just its number.\n",
    "\n",
    "#The variable fake is just used as a placeholder, because I didn't want existing integers to be\n",
    "#affected as I played around with this loop. If the notebook is run through only once this shouldn't \n",
    "#be an issue. \n",
    "#The variable count was to see how many exceptions I had 'erased' (replaced with 0) in the runtime slot "
   ]
  },
  {
   "cell_type": "code",
   "execution_count": 31,
   "metadata": {},
   "outputs": [
    {
     "name": "stdout",
     "output_type": "stream",
     "text": [
      "                     rating  imdb_rating  \\\n",
      "title                                      \n",
      "Prem Ratan Dhan Payo    NaN          4.8   \n",
      "\n",
      "                                                                 actors  \\\n",
      "title                                                                     \n",
      "Prem Ratan Dhan Payo  Salman Khan, Sonam Kapoor, Neil Nitin Mukesh, ...   \n",
      "\n",
      "                                director         release_date runtime  \\\n",
      "title                                                                   \n",
      "Prem Ratan Dhan Payo  Sooraj R. Barjatya  2015-11-12 00:00:00     164   \n",
      "\n",
      "                                       genre   awards      Budget  \\\n",
      "title                                                               \n",
      "Prem Ratan Dhan Payo  Action, Drama, Musical  2 wins.  1800000000   \n",
      "\n",
      "                     Box Office Gross     ...      Horror?  Mystery?  \\\n",
      "title                                     ...                          \n",
      "Prem Ratan Dhan Payo          4364639     ...            0         0   \n",
      "\n",
      "                      Romance?  Sci-Fi?  Thriller?  G?  PG?  PG-13?  R?  \\\n",
      "title                                                                     \n",
      "Prem Ratan Dhan Payo         0        0          0   0    0       0   0   \n",
      "\n",
      "                      Not Rated?  \n",
      "title                             \n",
      "Prem Ratan Dhan Payo           1  \n",
      "\n",
      "[1 rows x 32 columns]\n"
     ]
    }
   ],
   "source": [
    "#print(movies_short[movies_short['Budget'] == 1270000000])\n",
    "print(movies_short[movies_short['Budget'] == 1800000000])\n",
    "#print(movies_short[movies_short['Budget'] == 1250000000])\n",
    "#print(movies_short[movies_short['Budget'] == 10000000000])\n",
    "#print(movies_short[movies_short['Budget'] == 1150000000])\n",
    "#print(movies_short[movies_short['Budget'] == 1300000000])\n",
    "#print(movies_short[movies_short['Budget'] == 30000000000])\n",
    "\n",
    "\n",
    "#Extremes: \n",
    "#1) Half of a Yellow Sun\n",
    "#2) Prem Ratan Dhan Payo\n",
    "#3) Bajirao Mastani \n",
    "#4) The Handmaiden \n",
    "#5) Dilwale\n",
    "#6) Train to Busan\n",
    "#7) Krrish 3\n",
    "#8) Poetry\n",
    "#9) My Way"
   ]
  },
  {
   "cell_type": "code",
   "execution_count": 32,
   "metadata": {
    "collapsed": true
   },
   "outputs": [],
   "source": [
    "#somehow delete all of these 9 rows\n",
    "\n",
    "movies_short = movies_short.drop(['Half of a Yellow Sun', 'Prem Ratan Dhan Payo', 'Bajirao Mastani', 'The Handmaiden', 'Dilwale', 'Train to Busan', 'Krrish 3', 'Poetry', 'My Way'])\n"
   ]
  },
  {
   "cell_type": "code",
   "execution_count": 33,
   "metadata": {
    "collapsed": true
   },
   "outputs": [],
   "source": [
    "#Exploratory Hist plots to document spread across the budget and the revenues."
   ]
  },
  {
   "cell_type": "code",
   "execution_count": 34,
   "metadata": {},
   "outputs": [
    {
     "name": "stderr",
     "output_type": "stream",
     "text": [
      "C:\\Users\\Brook\\Anaconda3\\lib\\site-packages\\numpy\\lib\\function_base.py:748: RuntimeWarning: invalid value encountered in greater_equal\n",
      "  keep = (tmp_a >= mn)\n",
      "C:\\Users\\Brook\\Anaconda3\\lib\\site-packages\\numpy\\lib\\function_base.py:749: RuntimeWarning: invalid value encountered in less_equal\n",
      "  keep &= (tmp_a <= mx)\n"
     ]
    },
    {
     "data": {
      "image/png": "[encoded data removed]",
      "text/plain": [
       "<matplotlib.figure.Figure at 0x2b206787cc0>"
      ]
     },
     "metadata": {},
     "output_type": "display_data"
    }
   ],
   "source": [
    "plt.hist(movies_short['Box Office Gross'], bins='auto')\n",
    "plt.title('Box Office Gross Distribution')\n",
    "plt.xlabel('Box Office Gross')\n",
    "plt.ylabel('Frequency')\n",
    "plt.xlim(0, 100000000)\n",
    "plt.show()"
   ]
  },
  {
   "cell_type": "code",
   "execution_count": 35,
   "metadata": {},
   "outputs": [
    {
     "data": {
      "image/png": "[encoded data removed]",
      "text/plain": [
       "<matplotlib.figure.Figure at 0x2b205758f60>"
      ]
     },
     "metadata": {},
     "output_type": "display_data"
    }
   ],
   "source": [
    "plt.hist(movies_short['Budget'], bins='auto')\n",
    "plt.xlim(0, 100000000)\n",
    "plt.xlabel('Budget')\n",
    "plt.ylabel('Frequency')\n",
    "plt.title('Budget Distribution')\n",
    "plt.show()"
   ]
  },
  {
   "cell_type": "code",
   "execution_count": 36,
   "metadata": {},
   "outputs": [
    {
     "data": {
      "image/png": "[encoded data removed]",
      "text/plain": [
       "<matplotlib.figure.Figure at 0x2b205976fd0>"
      ]
     },
     "metadata": {},
     "output_type": "display_data"
    }
   ],
   "source": [
    "#Scatter Plot to examine relationship between budget and gross\n",
    "plt.plot(movies_short['Budget'], movies_short['Box Office Gross'], linestyle='None', marker='.')\n",
    "plt.xlim(0, 400000000)\n",
    "plt.xlabel('Budget')\n",
    "plt.ylabel('Box Office Gross')\n",
    "plt.show()\n",
    "\n",
    "#Will cap the budget and box office grosses for the purpose of regression."
   ]
  },
  {
   "cell_type": "code",
   "execution_count": 37,
   "metadata": {
    "scrolled": true
   },
   "outputs": [
    {
     "data": {
      "image/png": "[encoded data removed]",
      "text/plain": [
       "<matplotlib.figure.Figure at 0x2b206082898>"
      ]
     },
     "metadata": {},
     "output_type": "display_data"
    }
   ],
   "source": [
    "#Zoom In \n",
    "plt.plot(movies_short['Budget'], movies_short['Box Office Gross'], linestyle='None', marker='.')\n",
    "plt.ylim(0, 400000000)\n",
    "plt.xlim(0, 200000000)\n",
    "plt.xlabel('Budget')\n",
    "plt.ylabel('Box Office Gross')\n",
    "plt.show()\n",
    "\n",
    "#np.corrcoef(movies_short['Budget'], movies_short['Box Office Gross'])"
   ]
  },
  {
   "cell_type": "code",
   "execution_count": 38,
   "metadata": {},
   "outputs": [
    {
     "name": "stdout",
     "output_type": "stream",
     "text": [
      "0.400634309947\n"
     ]
    }
   ],
   "source": [
    "movies_splice = movies_short[['Budget', 'Box Office Gross']]\n",
    "\n",
    "\n",
    "pearson = movies_splice['Budget'].astype(float).corr(movies_splice['Box Office Gross'].astype(float))\n",
    "\n",
    "\n",
    "print(pearson)"
   ]
  },
  {
   "cell_type": "code",
   "execution_count": 39,
   "metadata": {
    "collapsed": true
   },
   "outputs": [],
   "source": [
    "#As Expected, it looks like there is some relationship between budget and box office gross, but it hard to tell from points alone\n",
    "#How prolific this relationship is. "
   ]
  },
  {
   "cell_type": "code",
   "execution_count": 40,
   "metadata": {},
   "outputs": [
    {
     "data": {
      "image/png": "[encoded data removed]",
      "text/plain": [
       "<matplotlib.figure.Figure at 0x2b2060f9d30>"
      ]
     },
     "metadata": {},
     "output_type": "display_data"
    }
   ],
   "source": [
    "#Exploratory Plots\n",
    "\n",
    "#Actor Score\n",
    "plt.plot(movies_short['actor_score'], movies_short['Profitability Ratio'], linestyle='None', marker='.')\n",
    "plt.xlabel('Actor Score')\n",
    "plt.ylabel('Profitability Ratio')\n",
    "plt.title('Famous Actors vs. Profitability')\n",
    "plt.show()\n",
    "\n",
    "#The number of famous actors shrinks the range of profitabilities, which makes sense considering that movies with more famous actors \n",
    "#tend to have larger budgets.\n"
   ]
  },
  {
   "cell_type": "code",
   "execution_count": 130,
   "metadata": {},
   "outputs": [
    {
     "data": {
      "image/png": "[encoded data removed]",
      "text/plain": [
       "<matplotlib.figure.Figure at 0x2b20d2825c0>"
      ]
     },
     "metadata": {},
     "output_type": "display_data"
    }
   ],
   "source": [
    "#Swarmplot of the same information to visualize, but needs further examination.\n",
    "#WARNING: Takes a while to load!\n",
    "\n",
    "sns.swarmplot(x=movies_short['actor_score'], y=movies_short['Profitability Ratio'])\n",
    "plt.title('Number of Movies with a Given Actor Score')\n",
    "plt.ylim((0, 15))\n",
    "plt.show()"
   ]
  },
  {
   "cell_type": "code",
   "execution_count": 42,
   "metadata": {
    "collapsed": true
   },
   "outputs": [],
   "source": [
    "#Maybe for box plots or 4 vertical histograms\n",
    "\n",
    "#USe kernels to modify histogram plotting"
   ]
  },
  {
   "cell_type": "code",
   "execution_count": 43,
   "metadata": {},
   "outputs": [
    {
     "data": {
      "image/png": "[encoded data removed]",
      "text/plain": [
       "<matplotlib.figure.Figure at 0x2b2061b11d0>"
      ]
     },
     "metadata": {},
     "output_type": "display_data"
    }
   ],
   "source": [
    "#Runtime \n",
    "###############################################\n",
    "\n",
    "plt.plot(movies_short['runtime'], movies_short['Profitability Ratio'], linestyle='None', marker='.')\n",
    "plt.ylim((0, 15))\n",
    "plt.xlabel('Length of Movies (minutes)')\n",
    "plt.ylabel('Profitability Ratio')\n",
    "plt.show()"
   ]
  },
  {
   "cell_type": "code",
   "execution_count": 125,
   "metadata": {},
   "outputs": [
    {
     "data": {
      "text/plain": [
       "107.3014481707317"
      ]
     },
     "execution_count": 125,
     "metadata": {},
     "output_type": "execute_result"
    }
   ],
   "source": [
    "movies_short['runtime'].median()\n",
    "movies_short['runtime'].mean()"
   ]
  },
  {
   "cell_type": "code",
   "execution_count": 44,
   "metadata": {
    "collapsed": true
   },
   "outputs": [],
   "source": [
    "#Based on initial analysis, it looks like the median movie is not profitable, but that there are some definite trends in the\n",
    "#movies that tend to make it big. The variables to watch out for in the predictive model include actor and director score,\n",
    "#runtime, and genre. "
   ]
  },
  {
   "cell_type": "code",
   "execution_count": 45,
   "metadata": {
    "collapsed": true
   },
   "outputs": [],
   "source": [
    "#Let's analyze different time blocks to see if they have any influence on revenue."
   ]
  },
  {
   "cell_type": "code",
   "execution_count": 46,
   "metadata": {
    "collapsed": true,
    "scrolled": true
   },
   "outputs": [],
   "source": [
    "winter = movies_short[(movies_short['release_date'].dt.month >= 1) & (movies_short['release_date'].dt.month <= 3)]\n",
    "spring = movies_short[(movies_short['release_date'].dt.month >= 4) & (movies_short['release_date'].dt.month <= 6)]\n",
    "summer = movies_short[(movies_short['release_date'].dt.month >= 7) & (movies_short['release_date'].dt.month <= 9)]\n",
    "fall = movies_short[(movies_short['release_date'].dt.month >= 10) & (movies_short['release_date'].dt.month <= 12)]"
   ]
  },
  {
   "cell_type": "code",
   "execution_count": 47,
   "metadata": {
    "collapsed": true
   },
   "outputs": [],
   "source": [
    "winter_med = np.median(winter['Box Office Gross'])\n",
    "spring_med = np.median(spring['Box Office Gross'])\n",
    "summer_med = np.median(summer['Box Office Gross'])\n",
    "fall_med = np.median(fall['Box Office Gross'])\n",
    "\n",
    "averages = [winter_med, spring_med, summer_med, fall_med]\n",
    "x = ['Winter', 'Spring', 'Summer', 'Fall']"
   ]
  },
  {
   "cell_type": "code",
   "execution_count": 48,
   "metadata": {},
   "outputs": [
    {
     "name": "stdout",
     "output_type": "stream",
     "text": [
      "[19522939.0, 17384072.0, 18872522.0, 19985196.0]\n"
     ]
    },
    {
     "data": {
      "image/png": "[encoded data removed]",
      "text/plain": [
       "<matplotlib.figure.Figure at 0x2b2060ca5f8>"
      ]
     },
     "metadata": {},
     "output_type": "display_data"
    }
   ],
   "source": [
    "print(averages)\n",
    "sns.barplot(x=x, y=averages)\n",
    "plt.ylabel('Revenue (USD)')\n",
    "plt.title('Average Revenue for Different Seasons')\n",
    "plt.show()\n",
    "\n",
    "#According to this, the median movie has the greatest revenue in the fall and least in the spring!"
   ]
  },
  {
   "cell_type": "code",
   "execution_count": 49,
   "metadata": {
    "collapsed": true
   },
   "outputs": [],
   "source": [
    "winter_med = np.nanmedian(winter[pd.notnull(winter)]['Profitability Ratio'])\n",
    "spring_med = np.nanmedian(spring[pd.notnull(spring)]['Profitability Ratio'])\n",
    "summer_med = np.nanmedian(summer[pd.notnull(summer)]['Profitability Ratio'])\n",
    "fall_med = np.nanmedian(fall[pd.notnull(fall)]['Profitability Ratio'])\n",
    "\n",
    "medians = [winter_med, spring_med, summer_med, fall_med]\n",
    "x = ['Winter', 'Spring', 'Summer', 'Fall']\n"
   ]
  },
  {
   "cell_type": "code",
   "execution_count": 50,
   "metadata": {},
   "outputs": [
    {
     "data": {
      "image/png": "[encoded data removed]",
      "text/plain": [
       "<matplotlib.figure.Figure at 0x2b2060f1ac8>"
      ]
     },
     "metadata": {},
     "output_type": "display_data"
    },
    {
     "name": "stdout",
     "output_type": "stream",
     "text": [
      "[0.8091221428571429, 0.81189596428571431, 0.83596948148148154, 0.77236336576923081]\n"
     ]
    }
   ],
   "source": [
    "sns.barplot(x=x, y=medians)\n",
    "plt.ylabel('Profitability Ratio')\n",
    "plt.title('Summer is the Most Profitable Season')\n",
    "plt.show()\n",
    "print(medians)\n",
    "\n",
    "#Interestingly, even though revenue is up in the fall, profitability actually peaks in the summer."
   ]
  },
  {
   "cell_type": "code",
   "execution_count": 51,
   "metadata": {
    "collapsed": true
   },
   "outputs": [],
   "source": [
    "winter_trim = winter[pd.notnull(winter)]['Profitability Ratio']\n",
    "spring_trim = spring[pd.notnull(spring)]['Profitability Ratio']\n",
    "summer_trim = summer[pd.notnull(summer)]['Profitability Ratio']\n",
    "fall_trim = fall[pd.notnull(fall)]['Profitability Ratio']"
   ]
  },
  {
   "cell_type": "code",
   "execution_count": 52,
   "metadata": {},
   "outputs": [
    {
     "data": {
      "text/plain": [
       "F_onewayResult(statistic=nan, pvalue=nan)"
      ]
     },
     "execution_count": 52,
     "metadata": {},
     "output_type": "execute_result"
    }
   ],
   "source": [
    "import scipy.stats as stats\n",
    "\n",
    "stats.f_oneway(winter_trim, spring_trim, summer_trim, fall_trim)"
   ]
  },
  {
   "cell_type": "code",
   "execution_count": 53,
   "metadata": {
    "collapsed": true
   },
   "outputs": [],
   "source": [
    "#Runtime Analysis \n",
    "\n",
    "#Only taking out profitable movies, then plotting the general distribution of profitable movies across runtimes.\n",
    "profitable_movies = movies_short[movies_short['Profitability Ratio'] >= 1]\n",
    "#profitable_movies.head()"
   ]
  },
  {
   "cell_type": "code",
   "execution_count": 55,
   "metadata": {},
   "outputs": [
    {
     "data": {
      "image/png": "[encoded data removed]",
      "text/plain": [
       "<matplotlib.figure.Figure at 0x2b2062bd978>"
      ]
     },
     "metadata": {},
     "output_type": "display_data"
    }
   ],
   "source": [
    "plt.hist(movies_short['runtime'], bins='auto', range = (0,225), color='b')\n",
    "plt.xlabel('Runtime')\n",
    "plt.ylabel('Num of Profitable Movies')\n",
    "plt.title('All Movies')\n",
    "plt.show()\n",
    "\n",
    "#Right from the graph, it appears that the overall set of movies has a larger proportion of movies that run longer than 120 mins\n",
    "#and a slight "
   ]
  },
  {
   "cell_type": "code",
   "execution_count": 54,
   "metadata": {},
   "outputs": [
    {
     "data": {
      "image/png": "[encoded data removed]",
      "text/plain": [
       "<matplotlib.figure.Figure at 0x2b2061e7780>"
      ]
     },
     "metadata": {},
     "output_type": "display_data"
    }
   ],
   "source": [
    "plt.hist(profitable_movies['runtime'], bins='auto', range =(0, 225), color='k')\n",
    "plt.xlabel('Runtime')\n",
    "plt.ylabel('Num of Profitable Movies')\n",
    "plt.title('Profitable Movies')\n",
    "plt.show()\n",
    "\n",
    "\n",
    "\n",
    "#It looks like movies around 100 min. long, with a slight bias towards the shorter, tend to fare the best. Let's compare to \n",
    "#the original set. "
   ]
  },
  {
   "cell_type": "code",
   "execution_count": 56,
   "metadata": {},
   "outputs": [
    {
     "data": {
      "image/png": "[encoded data removed]",
      "text/plain": [
       "<matplotlib.figure.Figure at 0x2b2060599b0>"
      ]
     },
     "metadata": {},
     "output_type": "display_data"
    }
   ],
   "source": [
    "#Let's see the distribution for unprofitable movies. \n",
    "\n",
    "unprofitable_movies = movies_short[movies_short['Profitability Ratio'] <= 1]\n",
    "\n",
    "plt.hist(unprofitable_movies['runtime'], bins='auto', range = (0,225), color='r')\n",
    "plt.xlabel('Runtime')\n",
    "plt.ylabel('Num of Unprofitable Movies')\n",
    "plt.title('Sour Movies')\n",
    "plt.show()"
   ]
  },
  {
   "cell_type": "code",
   "execution_count": 128,
   "metadata": {},
   "outputs": [
    {
     "data": {
      "image/png": "[encoded data removed]",
      "text/plain": [
       "<matplotlib.figure.Figure at 0x2b20ce7b748>"
      ]
     },
     "metadata": {},
     "output_type": "display_data"
    }
   ],
   "source": [
    "#Putting the two distributions together \n",
    "\n",
    "plt.hist(profitable_movies['runtime'], bins='auto', alpha= 0.5, range =(0, 225), color='k', label='profitable')\n",
    "plt.hist(unprofitable_movies['runtime'], bins='auto', alpha= 0.5, range = (0,225), color='r', label='unprofitable')\n",
    "\n",
    "plt.xlabel('Runtime (minutes)')\n",
    "plt.ylabel('Num of Movies')\n",
    "plt.title('Profitable vs. Unprofitable Movie Runtime')\n",
    "plt.xlim(50, 250)\n",
    "plt.legend(loc='upper right')\n",
    "plt.show()"
   ]
  },
  {
   "cell_type": "code",
   "execution_count": 58,
   "metadata": {},
   "outputs": [
    {
     "data": {
      "image/png": "[encoded data removed]",
      "text/plain": [
       "<matplotlib.figure.Figure at 0x2b206239e48>"
      ]
     },
     "metadata": {},
     "output_type": "display_data"
    }
   ],
   "source": [
    "plt.hist(movies_short['Budget'], bins=10, range = (0, 40000000))\n",
    "plt.xlabel('Revenue')\n",
    "plt.ylabel('Num of Profitable Movies')\n",
    "plt.title('All Movies')\n",
    "plt.xlim(0, 40000000)\n",
    "plt.show()"
   ]
  },
  {
   "cell_type": "code",
   "execution_count": 59,
   "metadata": {},
   "outputs": [
    {
     "data": {
      "image/png": "[encoded data removed]",
      "text/plain": [
       "<matplotlib.figure.Figure at 0x2b205e4c898>"
      ]
     },
     "metadata": {},
     "output_type": "display_data"
    }
   ],
   "source": [
    "plt.hist(unprofitable_movies['Budget'], bins=10, range = (0, 40000000), color='r')\n",
    "plt.xlabel('Revenue')\n",
    "plt.ylabel('Num of Unprofitable Movies')\n",
    "plt.title('Sour Movies')\n",
    "plt.xlim(0, 40000000)\n",
    "plt.show()"
   ]
  },
  {
   "cell_type": "code",
   "execution_count": 60,
   "metadata": {},
   "outputs": [
    {
     "data": {
      "image/png": "[encoded data removed]",
      "text/plain": [
       "<matplotlib.figure.Figure at 0x2b205d16a58>"
      ]
     },
     "metadata": {},
     "output_type": "display_data"
    }
   ],
   "source": [
    "plt.hist(profitable_movies['Budget'], bins=10, range = (0, 40000000), color='k')\n",
    "plt.xlabel('Revenue')\n",
    "plt.ylabel('Num of Profitable Movies')\n",
    "plt.title('Profitable Movies')\n",
    "plt.xlim(0, 40000000)\n",
    "plt.show()\n",
    "\n",
    "#Based on these plots alone, which can only be compared on a relative scale, it appears that the proportion of big budget movies\n",
    "#in the profitable section is higher than that without. Further analysis may reveal whether big budget movies tend to outperform\n",
    "#smaller ones."
   ]
  },
  {
   "cell_type": "code",
   "execution_count": 126,
   "metadata": {},
   "outputs": [
    {
     "data": {
      "image/png": "[encoded data removed]",
      "text/plain": [
       "<matplotlib.figure.Figure at 0x2b20603f550>"
      ]
     },
     "metadata": {},
     "output_type": "display_data"
    }
   ],
   "source": [
    "plt.hist(profitable_movies['Budget'], bins=10, range = (0, 40000000), alpha=0.5, color='b', label='profitable movies')\n",
    "plt.hist(unprofitable_movies['Budget'], bins=10, range = (0, 40000000), alpha=0.5, color='r', label='unprofitable movies')\n",
    "\n",
    "plt.xlabel('Budget')\n",
    "plt.ylabel('Num of Movies')\n",
    "plt.title('More Low-Budget Movies are Unprofitable')\n",
    "plt.legend(loc='upper right')\n",
    "plt.xlim(0, 40000000)\n",
    "plt.show()\n",
    "\n",
    "#The large salmon-pink area on the left side of the graph suggests that a greater proportion of \n",
    "# movies that are unprofitable are low-budget. Cause and effect are yet to be determined, however."
   ]
  },
  {
   "cell_type": "code",
   "execution_count": 62,
   "metadata": {},
   "outputs": [
    {
     "name": "stdout",
     "output_type": "stream",
     "text": [
      "22.8116710875\n",
      "21.7987804878\n",
      "21.0382513661\n"
     ]
    }
   ],
   "source": [
    "#Comparing the proportion of movies above a benchmark time - say, 2 hours - for the different batches of movies.\n",
    "\n",
    "long_prof_movies_count = profitable_movies[profitable_movies['runtime'] >= 120]['runtime'].count()\n",
    "prof_movies_count = profitable_movies['runtime'].count()\n",
    "\n",
    "long_movies_count = movies_short[movies_short['runtime'] >= 120]['runtime'].count()\n",
    "movies_count = movies_short['runtime'].count()\n",
    "\n",
    "long_unprof_movies_count = unprofitable_movies[unprofitable_movies['runtime'] >= 120]['runtime'].count()\n",
    "unprof_movies_count = unprofitable_movies['runtime'].count()\n",
    "\n",
    "print(long_prof_movies_count / prof_movies_count * 100)\n",
    "print(long_movies_count / movies_count * 100)\n",
    "print(long_unprof_movies_count / unprof_movies_count * 100)\n",
    "\n",
    "\n",
    "#There's a noticeable, albeit slight trend here! Out of the total set of movies, only 19.9% of successful ones ran longer than 2\n",
    "# hours, compared to 21.4% of unsuccessful ones. Nearly half of movies in general! Perhaps people are impatient and don't \n",
    "# want to lose a great deal of time on entertainment. #Perhaps going long is a slightly risky decision by producers. We'll have \n",
    "#to test if this difference is significant.\n"
   ]
  },
  {
   "cell_type": "code",
   "execution_count": null,
   "metadata": {},
   "outputs": [],
   "source": []
  },
  {
   "cell_type": "code",
   "execution_count": 63,
   "metadata": {},
   "outputs": [
    {
     "name": "stdout",
     "output_type": "stream",
     "text": [
      "0.809122142857\n",
      "0.72688614\n",
      "0.989852544828\n",
      "1.11280369333\n",
      "1.29664436\n"
     ]
    },
    {
     "data": {
      "image/png": "[encoded data removed]",
      "text/plain": [
       "<matplotlib.figure.Figure at 0x2b206082780>"
      ]
     },
     "metadata": {},
     "output_type": "display_data"
    }
   ],
   "source": [
    "#comparing actor score 0 with actor score 1 \n",
    "#Right off the bat it's apparent that going from an actor score of 0 to anything else is much better, with even one famous actor\n",
    "#causing an expected return of nearly 100% of budget back\n",
    "\n",
    "median_profitability = np.median(movies_short['Profitability Ratio'].dropna())\n",
    "actor_0 = movies_short[movies_short['actor_score'] == 0]\n",
    "actor_1 = movies_short[movies_short['actor_score'] == 1]\n",
    "actor_2 = movies_short[movies_short['actor_score'] == 2]\n",
    "actor_3 = movies_short[movies_short['actor_score'] == 3]\n",
    "\n",
    "print(median_profitability)\n",
    "print(np.median(actor_0['Profitability Ratio'].dropna()))\n",
    "print(np.median(actor_1['Profitability Ratio'].dropna()))\n",
    "print(np.median(actor_2['Profitability Ratio'].dropna()))\n",
    "print(np.median(actor_3['Profitability Ratio'].dropna()))\n",
    "\n",
    "medians = []\n",
    "medians.append(np.median(actor_0['Profitability Ratio'].dropna()))\n",
    "medians.append(np.median(actor_1['Profitability Ratio'].dropna()))\n",
    "medians.append(np.median(actor_2['Profitability Ratio'].dropna()))\n",
    "medians.append(np.median(actor_3['Profitability Ratio'].dropna()))\n",
    "\n",
    "labels = ('0', '1', '2', '3')\n",
    "\n",
    "y_pos = np.arange(len(labels))\n",
    "plt.xticks(y_pos, labels)\n",
    "\n",
    "plt.bar(y_pos, medians, color='m')\n",
    "plt.xlabel('Actor Score')\n",
    "plt.ylabel('Profitability Ratio')\n",
    "plt.title('Profitability Rises with Number of Famous Actors')\n",
    "plt.show()"
   ]
  },
  {
   "cell_type": "code",
   "execution_count": 64,
   "metadata": {
    "collapsed": true
   },
   "outputs": [],
   "source": [
    "def bootstrap_replicate_1d(data, func):\n",
    "    return func(np.random.choice(data, size=len(data)))\n",
    "\n",
    "def draw_bs_reps(data, func, size=1):\n",
    "    \"\"\"Draw bootstrap replicates.\"\"\"\n",
    "\n",
    "    # Initialize array of replicates: bs_replicates\n",
    "    bs_replicates = np.empty(size)\n",
    "\n",
    "    # Generate replicates\n",
    "    for i in range(size):\n",
    "        bs_replicates[i] = bootstrap_replicate_1d(data, func)\n",
    "\n",
    "    return bs_replicates\n",
    "\n",
    "def diff_of_means(data_1, data_2):\n",
    "    \"\"\"Difference in means of two arrays.\"\"\"\n",
    "\n",
    "    # The difference of means of data_1, data_2: diff\n",
    "    diff = np.mean(data_1) - np.mean(data_2)\n",
    "\n",
    "    return diff"
   ]
  },
  {
   "cell_type": "code",
   "execution_count": 65,
   "metadata": {
    "collapsed": true
   },
   "outputs": [],
   "source": [
    "movies_short['runtime'] = pd.to_numeric(movies_short['runtime'])"
   ]
  },
  {
   "cell_type": "code",
   "execution_count": 66,
   "metadata": {
    "collapsed": true
   },
   "outputs": [],
   "source": [
    "movies_short['Budget'] = pd.to_numeric(movies_short['Budget'])"
   ]
  },
  {
   "cell_type": "code",
   "execution_count": 67,
   "metadata": {},
   "outputs": [
    {
     "data": {
      "text/plain": [
       "rating                  object\n",
       "imdb_rating            float64\n",
       "actors                  object\n",
       "director                object\n",
       "release_date            object\n",
       "runtime                  int64\n",
       "genre                   object\n",
       "awards                  object\n",
       "Budget                   int64\n",
       "Box Office Gross        object\n",
       "Profitability Ratio    float64\n",
       "actor_score              int64\n",
       "director_score           int64\n",
       "Action?                  int64\n",
       "Adventure?               int64\n",
       "Animation?               int64\n",
       "Biography?               int64\n",
       "Comedy?                  int64\n",
       "Drama?                   int64\n",
       "Family?                  int64\n",
       "Fantasy?                 int64\n",
       "History?                 int64\n",
       "Horror?                  int64\n",
       "Mystery?                 int64\n",
       "Romance?                 int64\n",
       "Sci-Fi?                  int64\n",
       "Thriller?                int64\n",
       "G?                       int64\n",
       "PG?                      int64\n",
       "PG-13?                   int64\n",
       "R?                       int64\n",
       "Not Rated?               int64\n",
       "dtype: object"
      ]
     },
     "execution_count": 67,
     "metadata": {},
     "output_type": "execute_result"
    }
   ],
   "source": [
    "movies_short.dtypes"
   ]
  },
  {
   "cell_type": "code",
   "execution_count": 68,
   "metadata": {
    "collapsed": true
   },
   "outputs": [],
   "source": [
    "empirical_diff_means = diff_of_means(actor_0['Profitability Ratio'], actor_1['Profitability Ratio'])"
   ]
  },
  {
   "cell_type": "code",
   "execution_count": 69,
   "metadata": {
    "collapsed": true,
    "scrolled": true
   },
   "outputs": [],
   "source": [
    "#type(actor_0.iloc[0, 10])\n",
    "#type(np.median(actor_0))"
   ]
  },
  {
   "cell_type": "code",
   "execution_count": 70,
   "metadata": {
    "scrolled": false
   },
   "outputs": [
    {
     "name": "stdout",
     "output_type": "stream",
     "text": [
      "p-value = 0.0147\n"
     ]
    }
   ],
   "source": [
    "#Time for T-test \n",
    "\n",
    "actors_shifted_0 = actor_0['Profitability Ratio'].dropna() - np.median(actor_0['Profitability Ratio'].dropna()) + median_profitability\n",
    "actors_shifted_0 = actor_1['Profitability Ratio'].dropna() - np.median(actor_1['Profitability Ratio'].dropna()) + median_profitability\n",
    "\n",
    "bs_replicates_0 = draw_bs_reps(actors_shifted_0, np.median, size=10000)\n",
    "bs_replicates_1 = draw_bs_reps(actors_shifted_0, np.median, size=10000) \n",
    "\n",
    "bs_replicates = bs_replicates_0 - bs_replicates_1 \n",
    "p = np.sum(bs_replicates > empirical_diff_means) / 10000\n",
    "print('p-value =', p)\n",
    "\n",
    "#P-value of 0.0135 suggests that even the difference between a single and no famous actors is signficant!"
   ]
  },
  {
   "cell_type": "code",
   "execution_count": 71,
   "metadata": {
    "scrolled": true
   },
   "outputs": [
    {
     "data": {
      "text/plain": [
       "title\n",
       "Gnomeo & Juliet                                        2.776880\n",
       "The Lovely Bones                                       0.674136\n",
       "John Carter                                            0.292312\n",
       "Youth in Revolt                                        0.848960\n",
       "Daybreakers                                            1.505079\n",
       "The Crazies                                            1.956179\n",
       "The Mechanic                                           0.728037\n",
       "Hail, Caesar!                                          1.367283\n",
       "Extremely Loud & Incredibly Close                      0.796197\n",
       "Season of the Witch                                    0.620681\n",
       "Hall Pass                                              1.251687\n",
       "The Croods                                             1.386433\n",
       "Red Tails                                              0.859938\n",
       "Silence                                                0.153895\n",
       "A Thousand Words                                       0.460954\n",
       "Escape from Planet Earth                               1.425324\n",
       "The Wolfman                                            0.413198\n",
       "The Incredible Burt Wonderstone                        0.750864\n",
       "Tooth Fairy                                            1.250464\n",
       "The Danish Girl                                        0.847093\n",
       "Take Me Home Tonight                                   0.301039\n",
       "Percy Jackson & the Olympians: The Lightning Thief     0.934334\n",
       "She's Out of My League                                 1.579236\n",
       "Valentine's Day                                        2.124724\n",
       "Mr. Peabody & Sherman                                  0.769010\n",
       "Sanctum                                                0.769002\n",
       "Snitch                                                 2.862031\n",
       "The Wedding Ringer                                     2.802618\n",
       "How to Train Your Dragon                               1.318674\n",
       "Green Zone                                             0.350537\n",
       "                                                        ...    \n",
       "Pawn Shop Chronicles                                   0.000983\n",
       "Silver Circle                                          0.002550\n",
       "The Ghastly Love of Johnny X                           0.001218\n",
       "Like Crazy                                            13.655632\n",
       "The First Time                                         0.008530\n",
       "Yamla Pagla Deewana                                    0.221488\n",
       "A Resurrection                                         0.002146\n",
       "Nebraska                                               1.471243\n",
       "A Separation                                          14.196984\n",
       "Agneepath                                              0.003303\n",
       "Tim and Eric's Billion Dollar Movie                    0.066934\n",
       "California Solo                                        0.076840\n",
       "Trance                                                 0.115959\n",
       "A Simple Life                                          0.006382\n",
       "Greedy Lying Bastards                                  0.062341\n",
       "Maniac                                                 0.003425\n",
       "Hell Baby                                              0.001992\n",
       "Himmatwala                                             0.027088\n",
       "The Berlin File                                        0.073912\n",
       "Cheap Thrills                                          0.296895\n",
       "The Single Moms Club                                   1.998284\n",
       "Mumbai Mirror                                          0.001703\n",
       "The Oscar Nominated Short Films 2013: Animation        3.048866\n",
       "Veronica Mars                                          0.553185\n",
       "The Lady in the Van                                    1.669612\n",
       "Lazer Team                                             0.463582\n",
       "Sophie's Choice                                        2.503000\n",
       "The Last Lullaby                                       0.014316\n",
       "Somewhere                                              0.252631\n",
       "Officer Down                                           0.000000\n",
       "Name: Profitability Ratio, Length: 640, dtype: float64"
      ]
     },
     "execution_count": 71,
     "metadata": {},
     "output_type": "execute_result"
    }
   ],
   "source": [
    "winter['Profitability Ratio']\n"
   ]
  },
  {
   "cell_type": "code",
   "execution_count": 72,
   "metadata": {},
   "outputs": [
    {
     "name": "stdout",
     "output_type": "stream",
     "text": [
      "p-value = 0.1777\n"
     ]
    }
   ],
   "source": [
    "winter_med = np.nanmedian(winter[pd.notnull(winter)]['Profitability Ratio'])\n",
    "summer_med = np.nanmedian(summer[pd.notnull(summer)]['Profitability Ratio'])\n",
    "\n",
    "\n",
    "winter_shifted = winter['Profitability Ratio'] - winter_med + median_profitability\n",
    "summer_shifted = summer['Profitability Ratio'] - summer_med + median_profitability\n",
    "\n",
    "empirical_diff_means = diff_of_means(winter['Profitability Ratio'], summer['Profitability Ratio'])\n",
    "\n",
    "bs_replicates_0 = draw_bs_reps(actors_shifted_0, np.median, size=10000)\n",
    "bs_replicates_1 = draw_bs_reps(actors_shifted_0, np.median, size=10000) \n",
    "\n",
    "bs_replicates = bs_replicates_0 - bs_replicates_1 \n",
    "p = np.sum(bs_replicates > empirical_diff_means) / 10000\n",
    "print('p-value =', p)\n",
    "\n",
    "#P-value of 0.1732 suggests that there may be a signficant difference between summer and winter movies, though there is a one\n",
    "#in 6 chance this difference is only made up by chance."
   ]
  },
  {
   "cell_type": "code",
   "execution_count": 73,
   "metadata": {},
   "outputs": [
    {
     "name": "stdout",
     "output_type": "stream",
     "text": [
      "0\n"
     ]
    }
   ],
   "source": [
    "#Break down by genre and calculate types\n",
    "\n",
    "horror_count = 0 \n",
    "idx = -1\n",
    "for idx in movies_short['Horror?'] : \n",
    "    \n",
    "    if movies_short.iloc[idx, 22] > 0 :\n",
    "        horror_count += 1 \n",
    "        \n",
    "    idx += 1 \n",
    "    \n",
    "print(horror_count)"
   ]
  },
  {
   "cell_type": "code",
   "execution_count": 74,
   "metadata": {},
   "outputs": [
    {
     "name": "stdout",
     "output_type": "stream",
     "text": [
      "[0.24009146341463414, 0.18521341463414634, 0.054115853658536585, 0.06783536585365854, 0.3696646341463415, 0.5057164634146342, 0.06440548780487805, 0.07660060975609756, 0.028201219512195123, 0.09336890243902439, 0.08117378048780488, 0.17263719512195122, 0.06974085365853659, 0.16234756097560976]\n"
     ]
    },
    {
     "data": {
      "text/plain": [
       "'\\nGetting closer to the solution here- but why are the numbers and counts here like this? They are way higher than they should be. \\nNeed to analyze and dig deeper into individual count.\\nAre things staying summated? Are the numbers not starting from 0?\\n'"
      ]
     },
     "execution_count": 74,
     "metadata": {},
     "output_type": "execute_result"
    }
   ],
   "source": [
    "#starts at 13, goes to 25\n",
    "#2624 is the length of the movies set \n",
    "\n",
    "num = 13 \n",
    "\n",
    "\n",
    "genre_counts = []\n",
    "while num <= 26: \n",
    "    genre_counts.append(movies_short.iloc[:, num].sum()/2624)\n",
    "    num += 1 \n",
    "    \n",
    "print(genre_counts)\n",
    "\n",
    "\n",
    "\"\"\"\n",
    "Getting closer to the solution here- but why are the numbers and counts here like this? They are way higher than they should be. \n",
    "Need to analyze and dig deeper into individual count.\n",
    "Are things staying summated? Are the numbers not starting from 0?\n",
    "\"\"\""
   ]
  },
  {
   "cell_type": "code",
   "execution_count": 75,
   "metadata": {},
   "outputs": [
    {
     "name": "stdout",
     "output_type": "stream",
     "text": [
      "['Action?', 'Adventure?', 'Animation?', 'Biography?', 'Comedy?', 'Drama?', 'Family?', 'Fantasy?', 'History?', 'Horror?', 'Mystery?', 'Romance?', 'Sci-Fi?', 'Thriller?']\n"
     ]
    }
   ],
   "source": [
    "genres = list(movies_short.columns.values[13:27])\n",
    "print(genres)"
   ]
  },
  {
   "cell_type": "code",
   "execution_count": 76,
   "metadata": {},
   "outputs": [
    {
     "name": "stdout",
     "output_type": "stream",
     "text": [
      "{'Action?': 0.24009146341463414, 'Adventure?': 0.18521341463414634, 'Animation?': 0.054115853658536585, 'Biography?': 0.06783536585365854, 'Comedy?': 0.3696646341463415, 'Drama?': 0.5057164634146342, 'Family?': 0.06440548780487805, 'Fantasy?': 0.07660060975609756, 'History?': 0.028201219512195123, 'Horror?': 0.09336890243902439, 'Mystery?': 0.08117378048780488, 'Romance?': 0.17263719512195122, 'Sci-Fi?': 0.06974085365853659, 'Thriller?': 0.16234756097560976}\n"
     ]
    }
   ],
   "source": [
    "#Making a dictionary for the proportion of movies that are genre.\n",
    "\n",
    "genre_dict = {}\n",
    "idx = 0 \n",
    "for val in genres: \n",
    "    genre_dict[val] = genre_counts[idx]\n",
    "    idx += 1 \n",
    "    \n",
    "print(genre_dict)"
   ]
  },
  {
   "cell_type": "code",
   "execution_count": 77,
   "metadata": {},
   "outputs": [
    {
     "data": {
      "image/png": "[encoded data removed]",
      "text/plain": [
       "<matplotlib.figure.Figure at 0x2b2056334a8>"
      ]
     },
     "metadata": {},
     "output_type": "display_data"
    }
   ],
   "source": [
    "\n",
    "x_name = list(genre_dict.keys())\n",
    "x = np.arange(len(x_name))  \n",
    "\n",
    "plt.xticks(x, x_name) \n",
    "plt.xticks(rotation='vertical')\n",
    "plt.title('Fraction of Movies by Genre')\n",
    "\n",
    "plt.bar(x, genre_counts, align='center', color='k')\n",
    "plt.show()\n"
   ]
  },
  {
   "cell_type": "code",
   "execution_count": 78,
   "metadata": {},
   "outputs": [
    {
     "name": "stdout",
     "output_type": "stream",
     "text": [
      "[ 0  1  2  3  4  5  6  7  8  9 10 11 12 13]\n"
     ]
    }
   ],
   "source": [
    "print(x)"
   ]
  },
  {
   "cell_type": "code",
   "execution_count": 79,
   "metadata": {},
   "outputs": [
    {
     "name": "stdout",
     "output_type": "stream",
     "text": [
      "[999.6190476190477, 1247.20987654321, 1459.8309859154929, 1076.1348314606741, 1274.1278350515463, 980.7867370007535, 1304.2366863905324, 1070.4875621890546, 1063.7837837837837, 1424.4571428571428, 1231.924882629108, 1187.4613686534217, 1304.8306010928961, 1102.5727699530516]\n"
     ]
    }
   ],
   "source": [
    "num = 13 \n",
    "\n",
    "\n",
    "prof_genre_counts = []\n",
    "while num <= 26: \n",
    "    prof_genre_counts.append(profitable_movies.iloc[:, num].sum()/genre_counts[num - 13])\n",
    "    num += 1 \n",
    "    \n",
    "print(prof_genre_counts)"
   ]
  },
  {
   "cell_type": "code",
   "execution_count": 80,
   "metadata": {},
   "outputs": [
    {
     "data": {
      "image/png": "[encoded data removed]",
      "text/plain": [
       "<matplotlib.figure.Figure at 0x2b205d65128>"
      ]
     },
     "metadata": {},
     "output_type": "display_data"
    }
   ],
   "source": [
    "x_name = list(genre_dict.keys())\n",
    "x = np.arange(len(x_name))  \n",
    "\n",
    "\n",
    "plt.xticks(x, x_name) \n",
    "plt.xticks(rotation='vertical')\n",
    "plt.title('Profitable Movie Distribution')\n",
    "\n",
    "plt.bar(x, prof_genre_counts, align='center', color='b')\n",
    "plt.show()\n",
    "\n",
    "#So it's apparent that while family movies make up the most common genre, less common ones like Biography and Mystery tend to \n",
    "#outperform them. This may be something to observe further."
   ]
  },
  {
   "cell_type": "code",
   "execution_count": 81,
   "metadata": {
    "collapsed": true
   },
   "outputs": [],
   "source": [
    "movies_short.rename(columns = {'Profitability Ratio':'Profitability_Ratio'}, inplace = True)"
   ]
  },
  {
   "cell_type": "code",
   "execution_count": 82,
   "metadata": {
    "collapsed": true
   },
   "outputs": [],
   "source": [
    "#Realized I have to rename all the columns with question marks because the ols function won't recognize them\n",
    "movies_short.rename(columns = {'Adventure?':'Adventure'}, inplace = True)"
   ]
  },
  {
   "cell_type": "code",
   "execution_count": 83,
   "metadata": {
    "collapsed": true
   },
   "outputs": [],
   "source": [
    "movies_short.rename(columns = {'Animation?':'Animation', 'Biography?':'Biography', 'Comedy?':'Comedy', 'Drama?':'Drama', 'Family?':'Family', 'Fantasy?':'Fantasy', 'History?':'History', 'Horror?':'Horror', 'Mystery?':'Mystery', 'Romance?':'Romance', 'Sci-Fi?':'SciFi', 'Thriller?':'Thriller'}, inplace = True)"
   ]
  },
  {
   "cell_type": "code",
   "execution_count": 84,
   "metadata": {
    "collapsed": true
   },
   "outputs": [],
   "source": [
    "#Then the Censorship Ratings\n",
    "movies_short.rename(columns = {'G?':'G', 'PG?':'PG', 'PG-13?':'PG13', 'R?':'R', 'Not Rated?':'NotRated'}, inplace = True)"
   ]
  },
  {
   "cell_type": "code",
   "execution_count": 85,
   "metadata": {
    "collapsed": true
   },
   "outputs": [],
   "source": [
    "movies_clean = movies_short.dropna()\n"
   ]
  },
  {
   "cell_type": "code",
   "execution_count": 86,
   "metadata": {},
   "outputs": [
    {
     "name": "stderr",
     "output_type": "stream",
     "text": [
      "C:\\Users\\Brook\\Anaconda3\\lib\\site-packages\\statsmodels\\compat\\pandas.py:56: FutureWarning: The pandas.core.datetools module is deprecated and will be removed in a future version. Please use the pandas.tseries module instead.\n",
      "  from pandas.core import datetools\n"
     ]
    }
   ],
   "source": [
    "import statsmodels.api as sm\n",
    "from statsmodels.formula.api import ols"
   ]
  },
  {
   "cell_type": "code",
   "execution_count": 87,
   "metadata": {
    "scrolled": true
   },
   "outputs": [
    {
     "data": {
      "text/html": [
       "<div>\n",
       "<style>\n",
       "    .dataframe thead tr:only-child th {\n",
       "        text-align: right;\n",
       "    }\n",
       "\n",
       "    .dataframe thead th {\n",
       "        text-align: left;\n",
       "    }\n",
       "\n",
       "    .dataframe tbody tr th {\n",
       "        vertical-align: top;\n",
       "    }\n",
       "</style>\n",
       "<table border=\"1\" class=\"dataframe\">\n",
       "  <thead>\n",
       "    <tr style=\"text-align: right;\">\n",
       "      <th></th>\n",
       "      <th>actor_score</th>\n",
       "      <th>director_score</th>\n",
       "      <th>Profitability_Ratio</th>\n",
       "      <th>Adventure</th>\n",
       "      <th>Animation</th>\n",
       "      <th>Biography</th>\n",
       "      <th>Comedy</th>\n",
       "      <th>Drama</th>\n",
       "      <th>Family</th>\n",
       "      <th>Fantasy</th>\n",
       "      <th>...</th>\n",
       "      <th>Horror</th>\n",
       "      <th>Mystery</th>\n",
       "      <th>Romance</th>\n",
       "      <th>SciFi</th>\n",
       "      <th>Thriller</th>\n",
       "      <th>G</th>\n",
       "      <th>PG</th>\n",
       "      <th>PG13</th>\n",
       "      <th>R</th>\n",
       "      <th>NotRated</th>\n",
       "    </tr>\n",
       "    <tr>\n",
       "      <th>title</th>\n",
       "      <th></th>\n",
       "      <th></th>\n",
       "      <th></th>\n",
       "      <th></th>\n",
       "      <th></th>\n",
       "      <th></th>\n",
       "      <th></th>\n",
       "      <th></th>\n",
       "      <th></th>\n",
       "      <th></th>\n",
       "      <th></th>\n",
       "      <th></th>\n",
       "      <th></th>\n",
       "      <th></th>\n",
       "      <th></th>\n",
       "      <th></th>\n",
       "      <th></th>\n",
       "      <th></th>\n",
       "      <th></th>\n",
       "      <th></th>\n",
       "      <th></th>\n",
       "    </tr>\n",
       "  </thead>\n",
       "  <tbody>\n",
       "    <tr>\n",
       "      <th>Alphaville</th>\n",
       "      <td>0</td>\n",
       "      <td>0</td>\n",
       "      <td>0.211750</td>\n",
       "      <td>0</td>\n",
       "      <td>0</td>\n",
       "      <td>0</td>\n",
       "      <td>0</td>\n",
       "      <td>1</td>\n",
       "      <td>0</td>\n",
       "      <td>0</td>\n",
       "      <td>...</td>\n",
       "      <td>0</td>\n",
       "      <td>1</td>\n",
       "      <td>0</td>\n",
       "      <td>1</td>\n",
       "      <td>0</td>\n",
       "      <td>0</td>\n",
       "      <td>0</td>\n",
       "      <td>0</td>\n",
       "      <td>0</td>\n",
       "      <td>1</td>\n",
       "    </tr>\n",
       "    <tr>\n",
       "      <th>Ghostbusters</th>\n",
       "      <td>2</td>\n",
       "      <td>0</td>\n",
       "      <td>7.954404</td>\n",
       "      <td>1</td>\n",
       "      <td>0</td>\n",
       "      <td>0</td>\n",
       "      <td>1</td>\n",
       "      <td>0</td>\n",
       "      <td>0</td>\n",
       "      <td>0</td>\n",
       "      <td>...</td>\n",
       "      <td>0</td>\n",
       "      <td>0</td>\n",
       "      <td>0</td>\n",
       "      <td>0</td>\n",
       "      <td>0</td>\n",
       "      <td>0</td>\n",
       "      <td>1</td>\n",
       "      <td>0</td>\n",
       "      <td>0</td>\n",
       "      <td>0</td>\n",
       "    </tr>\n",
       "    <tr>\n",
       "      <th>Beauty and the Beast</th>\n",
       "      <td>0</td>\n",
       "      <td>0</td>\n",
       "      <td>8.758705</td>\n",
       "      <td>0</td>\n",
       "      <td>1</td>\n",
       "      <td>0</td>\n",
       "      <td>0</td>\n",
       "      <td>0</td>\n",
       "      <td>1</td>\n",
       "      <td>1</td>\n",
       "      <td>...</td>\n",
       "      <td>0</td>\n",
       "      <td>0</td>\n",
       "      <td>0</td>\n",
       "      <td>0</td>\n",
       "      <td>0</td>\n",
       "      <td>1</td>\n",
       "      <td>0</td>\n",
       "      <td>0</td>\n",
       "      <td>0</td>\n",
       "      <td>0</td>\n",
       "    </tr>\n",
       "    <tr>\n",
       "      <th>Jurassic Park</th>\n",
       "      <td>0</td>\n",
       "      <td>3</td>\n",
       "      <td>6.388157</td>\n",
       "      <td>1</td>\n",
       "      <td>0</td>\n",
       "      <td>0</td>\n",
       "      <td>0</td>\n",
       "      <td>0</td>\n",
       "      <td>0</td>\n",
       "      <td>0</td>\n",
       "      <td>...</td>\n",
       "      <td>0</td>\n",
       "      <td>0</td>\n",
       "      <td>0</td>\n",
       "      <td>1</td>\n",
       "      <td>1</td>\n",
       "      <td>0</td>\n",
       "      <td>0</td>\n",
       "      <td>1</td>\n",
       "      <td>0</td>\n",
       "      <td>0</td>\n",
       "    </tr>\n",
       "    <tr>\n",
       "      <th>Forrest Gump</th>\n",
       "      <td>2</td>\n",
       "      <td>1</td>\n",
       "      <td>6.004585</td>\n",
       "      <td>0</td>\n",
       "      <td>0</td>\n",
       "      <td>0</td>\n",
       "      <td>1</td>\n",
       "      <td>1</td>\n",
       "      <td>0</td>\n",
       "      <td>0</td>\n",
       "      <td>...</td>\n",
       "      <td>0</td>\n",
       "      <td>0</td>\n",
       "      <td>1</td>\n",
       "      <td>0</td>\n",
       "      <td>0</td>\n",
       "      <td>0</td>\n",
       "      <td>0</td>\n",
       "      <td>1</td>\n",
       "      <td>0</td>\n",
       "      <td>0</td>\n",
       "    </tr>\n",
       "    <tr>\n",
       "      <th>Titanic</th>\n",
       "      <td>3</td>\n",
       "      <td>1</td>\n",
       "      <td>3.293362</td>\n",
       "      <td>0</td>\n",
       "      <td>0</td>\n",
       "      <td>0</td>\n",
       "      <td>0</td>\n",
       "      <td>1</td>\n",
       "      <td>0</td>\n",
       "      <td>0</td>\n",
       "      <td>...</td>\n",
       "      <td>0</td>\n",
       "      <td>0</td>\n",
       "      <td>1</td>\n",
       "      <td>0</td>\n",
       "      <td>0</td>\n",
       "      <td>0</td>\n",
       "      <td>0</td>\n",
       "      <td>1</td>\n",
       "      <td>0</td>\n",
       "      <td>0</td>\n",
       "    </tr>\n",
       "    <tr>\n",
       "      <th>Star Wars: Episode I - The Phantom Menace</th>\n",
       "      <td>2</td>\n",
       "      <td>1</td>\n",
       "      <td>4.126475</td>\n",
       "      <td>1</td>\n",
       "      <td>0</td>\n",
       "      <td>0</td>\n",
       "      <td>0</td>\n",
       "      <td>0</td>\n",
       "      <td>0</td>\n",
       "      <td>1</td>\n",
       "      <td>...</td>\n",
       "      <td>0</td>\n",
       "      <td>0</td>\n",
       "      <td>0</td>\n",
       "      <td>0</td>\n",
       "      <td>0</td>\n",
       "      <td>0</td>\n",
       "      <td>1</td>\n",
       "      <td>0</td>\n",
       "      <td>0</td>\n",
       "      <td>0</td>\n",
       "    </tr>\n",
       "    <tr>\n",
       "      <th>The Fast and the Furious</th>\n",
       "      <td>0</td>\n",
       "      <td>0</td>\n",
       "      <td>3.803524</td>\n",
       "      <td>0</td>\n",
       "      <td>0</td>\n",
       "      <td>0</td>\n",
       "      <td>0</td>\n",
       "      <td>0</td>\n",
       "      <td>0</td>\n",
       "      <td>0</td>\n",
       "      <td>...</td>\n",
       "      <td>0</td>\n",
       "      <td>0</td>\n",
       "      <td>0</td>\n",
       "      <td>0</td>\n",
       "      <td>1</td>\n",
       "      <td>0</td>\n",
       "      <td>0</td>\n",
       "      <td>1</td>\n",
       "      <td>0</td>\n",
       "      <td>0</td>\n",
       "    </tr>\n",
       "    <tr>\n",
       "      <th>The Secret Life of Walter Mitty</th>\n",
       "      <td>0</td>\n",
       "      <td>0</td>\n",
       "      <td>0.647076</td>\n",
       "      <td>1</td>\n",
       "      <td>0</td>\n",
       "      <td>0</td>\n",
       "      <td>1</td>\n",
       "      <td>1</td>\n",
       "      <td>0</td>\n",
       "      <td>0</td>\n",
       "      <td>...</td>\n",
       "      <td>0</td>\n",
       "      <td>0</td>\n",
       "      <td>0</td>\n",
       "      <td>0</td>\n",
       "      <td>0</td>\n",
       "      <td>0</td>\n",
       "      <td>1</td>\n",
       "      <td>0</td>\n",
       "      <td>0</td>\n",
       "      <td>0</td>\n",
       "    </tr>\n",
       "    <tr>\n",
       "      <th>Jurassic World</th>\n",
       "      <td>0</td>\n",
       "      <td>0</td>\n",
       "      <td>4.348471</td>\n",
       "      <td>1</td>\n",
       "      <td>0</td>\n",
       "      <td>0</td>\n",
       "      <td>0</td>\n",
       "      <td>0</td>\n",
       "      <td>0</td>\n",
       "      <td>0</td>\n",
       "      <td>...</td>\n",
       "      <td>0</td>\n",
       "      <td>0</td>\n",
       "      <td>0</td>\n",
       "      <td>1</td>\n",
       "      <td>0</td>\n",
       "      <td>0</td>\n",
       "      <td>0</td>\n",
       "      <td>1</td>\n",
       "      <td>0</td>\n",
       "      <td>0</td>\n",
       "    </tr>\n",
       "    <tr>\n",
       "      <th>The Rum Diary</th>\n",
       "      <td>1</td>\n",
       "      <td>0</td>\n",
       "      <td>0.291112</td>\n",
       "      <td>0</td>\n",
       "      <td>0</td>\n",
       "      <td>0</td>\n",
       "      <td>1</td>\n",
       "      <td>1</td>\n",
       "      <td>0</td>\n",
       "      <td>0</td>\n",
       "      <td>...</td>\n",
       "      <td>0</td>\n",
       "      <td>0</td>\n",
       "      <td>0</td>\n",
       "      <td>0</td>\n",
       "      <td>0</td>\n",
       "      <td>0</td>\n",
       "      <td>0</td>\n",
       "      <td>0</td>\n",
       "      <td>1</td>\n",
       "      <td>0</td>\n",
       "    </tr>\n",
       "    <tr>\n",
       "      <th>Gnomeo &amp; Juliet</th>\n",
       "      <td>1</td>\n",
       "      <td>0</td>\n",
       "      <td>2.776880</td>\n",
       "      <td>0</td>\n",
       "      <td>1</td>\n",
       "      <td>0</td>\n",
       "      <td>1</td>\n",
       "      <td>0</td>\n",
       "      <td>1</td>\n",
       "      <td>0</td>\n",
       "      <td>...</td>\n",
       "      <td>0</td>\n",
       "      <td>0</td>\n",
       "      <td>0</td>\n",
       "      <td>0</td>\n",
       "      <td>0</td>\n",
       "      <td>1</td>\n",
       "      <td>0</td>\n",
       "      <td>0</td>\n",
       "      <td>0</td>\n",
       "      <td>0</td>\n",
       "    </tr>\n",
       "    <tr>\n",
       "      <th>The Lovely Bones</th>\n",
       "      <td>1</td>\n",
       "      <td>2</td>\n",
       "      <td>0.674136</td>\n",
       "      <td>0</td>\n",
       "      <td>0</td>\n",
       "      <td>0</td>\n",
       "      <td>0</td>\n",
       "      <td>1</td>\n",
       "      <td>0</td>\n",
       "      <td>1</td>\n",
       "      <td>...</td>\n",
       "      <td>0</td>\n",
       "      <td>0</td>\n",
       "      <td>0</td>\n",
       "      <td>0</td>\n",
       "      <td>1</td>\n",
       "      <td>0</td>\n",
       "      <td>0</td>\n",
       "      <td>1</td>\n",
       "      <td>0</td>\n",
       "      <td>0</td>\n",
       "    </tr>\n",
       "    <tr>\n",
       "      <th>Tangled</th>\n",
       "      <td>0</td>\n",
       "      <td>0</td>\n",
       "      <td>0.772392</td>\n",
       "      <td>1</td>\n",
       "      <td>1</td>\n",
       "      <td>0</td>\n",
       "      <td>1</td>\n",
       "      <td>0</td>\n",
       "      <td>0</td>\n",
       "      <td>0</td>\n",
       "      <td>...</td>\n",
       "      <td>0</td>\n",
       "      <td>0</td>\n",
       "      <td>0</td>\n",
       "      <td>0</td>\n",
       "      <td>0</td>\n",
       "      <td>0</td>\n",
       "      <td>1</td>\n",
       "      <td>0</td>\n",
       "      <td>0</td>\n",
       "      <td>0</td>\n",
       "    </tr>\n",
       "    <tr>\n",
       "      <th>John Carter</th>\n",
       "      <td>1</td>\n",
       "      <td>0</td>\n",
       "      <td>0.292312</td>\n",
       "      <td>1</td>\n",
       "      <td>0</td>\n",
       "      <td>0</td>\n",
       "      <td>0</td>\n",
       "      <td>0</td>\n",
       "      <td>0</td>\n",
       "      <td>0</td>\n",
       "      <td>...</td>\n",
       "      <td>0</td>\n",
       "      <td>0</td>\n",
       "      <td>0</td>\n",
       "      <td>1</td>\n",
       "      <td>0</td>\n",
       "      <td>0</td>\n",
       "      <td>0</td>\n",
       "      <td>1</td>\n",
       "      <td>0</td>\n",
       "      <td>0</td>\n",
       "    </tr>\n",
       "    <tr>\n",
       "      <th>Youth in Revolt</th>\n",
       "      <td>0</td>\n",
       "      <td>0</td>\n",
       "      <td>0.848960</td>\n",
       "      <td>0</td>\n",
       "      <td>0</td>\n",
       "      <td>0</td>\n",
       "      <td>1</td>\n",
       "      <td>1</td>\n",
       "      <td>0</td>\n",
       "      <td>0</td>\n",
       "      <td>...</td>\n",
       "      <td>0</td>\n",
       "      <td>0</td>\n",
       "      <td>1</td>\n",
       "      <td>0</td>\n",
       "      <td>0</td>\n",
       "      <td>0</td>\n",
       "      <td>0</td>\n",
       "      <td>0</td>\n",
       "      <td>1</td>\n",
       "      <td>0</td>\n",
       "    </tr>\n",
       "    <tr>\n",
       "      <th>Cowboys &amp; Aliens</th>\n",
       "      <td>0</td>\n",
       "      <td>0</td>\n",
       "      <td>0.614973</td>\n",
       "      <td>0</td>\n",
       "      <td>0</td>\n",
       "      <td>0</td>\n",
       "      <td>0</td>\n",
       "      <td>0</td>\n",
       "      <td>0</td>\n",
       "      <td>0</td>\n",
       "      <td>...</td>\n",
       "      <td>0</td>\n",
       "      <td>0</td>\n",
       "      <td>0</td>\n",
       "      <td>1</td>\n",
       "      <td>1</td>\n",
       "      <td>0</td>\n",
       "      <td>0</td>\n",
       "      <td>1</td>\n",
       "      <td>0</td>\n",
       "      <td>0</td>\n",
       "    </tr>\n",
       "    <tr>\n",
       "      <th>The A-Team</th>\n",
       "      <td>1</td>\n",
       "      <td>0</td>\n",
       "      <td>0.702019</td>\n",
       "      <td>1</td>\n",
       "      <td>0</td>\n",
       "      <td>0</td>\n",
       "      <td>1</td>\n",
       "      <td>0</td>\n",
       "      <td>0</td>\n",
       "      <td>0</td>\n",
       "      <td>...</td>\n",
       "      <td>0</td>\n",
       "      <td>0</td>\n",
       "      <td>0</td>\n",
       "      <td>0</td>\n",
       "      <td>0</td>\n",
       "      <td>0</td>\n",
       "      <td>0</td>\n",
       "      <td>1</td>\n",
       "      <td>0</td>\n",
       "      <td>0</td>\n",
       "    </tr>\n",
       "    <tr>\n",
       "      <th>The Possession</th>\n",
       "      <td>0</td>\n",
       "      <td>0</td>\n",
       "      <td>3.509297</td>\n",
       "      <td>0</td>\n",
       "      <td>0</td>\n",
       "      <td>0</td>\n",
       "      <td>0</td>\n",
       "      <td>0</td>\n",
       "      <td>0</td>\n",
       "      <td>0</td>\n",
       "      <td>...</td>\n",
       "      <td>1</td>\n",
       "      <td>0</td>\n",
       "      <td>0</td>\n",
       "      <td>0</td>\n",
       "      <td>1</td>\n",
       "      <td>0</td>\n",
       "      <td>0</td>\n",
       "      <td>1</td>\n",
       "      <td>0</td>\n",
       "      <td>0</td>\n",
       "    </tr>\n",
       "    <tr>\n",
       "      <th>Real Steel</th>\n",
       "      <td>1</td>\n",
       "      <td>0</td>\n",
       "      <td>0.776986</td>\n",
       "      <td>0</td>\n",
       "      <td>0</td>\n",
       "      <td>0</td>\n",
       "      <td>0</td>\n",
       "      <td>1</td>\n",
       "      <td>1</td>\n",
       "      <td>0</td>\n",
       "      <td>...</td>\n",
       "      <td>0</td>\n",
       "      <td>0</td>\n",
       "      <td>0</td>\n",
       "      <td>0</td>\n",
       "      <td>0</td>\n",
       "      <td>0</td>\n",
       "      <td>0</td>\n",
       "      <td>1</td>\n",
       "      <td>0</td>\n",
       "      <td>0</td>\n",
       "    </tr>\n",
       "  </tbody>\n",
       "</table>\n",
       "<p>20 rows × 21 columns</p>\n",
       "</div>"
      ],
      "text/plain": [
       "                                           actor_score  director_score  \\\n",
       "title                                                                    \n",
       "Alphaville                                           0               0   \n",
       "Ghostbusters                                         2               0   \n",
       "Beauty and the Beast                                 0               0   \n",
       "Jurassic Park                                        0               3   \n",
       "Forrest Gump                                         2               1   \n",
       "Titanic                                              3               1   \n",
       "Star Wars: Episode I - The Phantom Menace            2               1   \n",
       "The Fast and the Furious                             0               0   \n",
       "The Secret Life of Walter Mitty                      0               0   \n",
       "Jurassic World                                       0               0   \n",
       "The Rum Diary                                        1               0   \n",
       "Gnomeo & Juliet                                      1               0   \n",
       "The Lovely Bones                                     1               2   \n",
       "Tangled                                              0               0   \n",
       "John Carter                                          1               0   \n",
       "Youth in Revolt                                      0               0   \n",
       "Cowboys & Aliens                                     0               0   \n",
       "The A-Team                                           1               0   \n",
       "The Possession                                       0               0   \n",
       "Real Steel                                           1               0   \n",
       "\n",
       "                                           Profitability_Ratio  Adventure  \\\n",
       "title                                                                       \n",
       "Alphaville                                            0.211750          0   \n",
       "Ghostbusters                                          7.954404          1   \n",
       "Beauty and the Beast                                  8.758705          0   \n",
       "Jurassic Park                                         6.388157          1   \n",
       "Forrest Gump                                          6.004585          0   \n",
       "Titanic                                               3.293362          0   \n",
       "Star Wars: Episode I - The Phantom Menace             4.126475          1   \n",
       "The Fast and the Furious                              3.803524          0   \n",
       "The Secret Life of Walter Mitty                       0.647076          1   \n",
       "Jurassic World                                        4.348471          1   \n",
       "The Rum Diary                                         0.291112          0   \n",
       "Gnomeo & Juliet                                       2.776880          0   \n",
       "The Lovely Bones                                      0.674136          0   \n",
       "Tangled                                               0.772392          1   \n",
       "John Carter                                           0.292312          1   \n",
       "Youth in Revolt                                       0.848960          0   \n",
       "Cowboys & Aliens                                      0.614973          0   \n",
       "The A-Team                                            0.702019          1   \n",
       "The Possession                                        3.509297          0   \n",
       "Real Steel                                            0.776986          0   \n",
       "\n",
       "                                           Animation  Biography  Comedy  \\\n",
       "title                                                                     \n",
       "Alphaville                                         0          0       0   \n",
       "Ghostbusters                                       0          0       1   \n",
       "Beauty and the Beast                               1          0       0   \n",
       "Jurassic Park                                      0          0       0   \n",
       "Forrest Gump                                       0          0       1   \n",
       "Titanic                                            0          0       0   \n",
       "Star Wars: Episode I - The Phantom Menace          0          0       0   \n",
       "The Fast and the Furious                           0          0       0   \n",
       "The Secret Life of Walter Mitty                    0          0       1   \n",
       "Jurassic World                                     0          0       0   \n",
       "The Rum Diary                                      0          0       1   \n",
       "Gnomeo & Juliet                                    1          0       1   \n",
       "The Lovely Bones                                   0          0       0   \n",
       "Tangled                                            1          0       1   \n",
       "John Carter                                        0          0       0   \n",
       "Youth in Revolt                                    0          0       1   \n",
       "Cowboys & Aliens                                   0          0       0   \n",
       "The A-Team                                         0          0       1   \n",
       "The Possession                                     0          0       0   \n",
       "Real Steel                                         0          0       0   \n",
       "\n",
       "                                           Drama  Family  Fantasy    ...     \\\n",
       "title                                                                ...      \n",
       "Alphaville                                     1       0        0    ...      \n",
       "Ghostbusters                                   0       0        0    ...      \n",
       "Beauty and the Beast                           0       1        1    ...      \n",
       "Jurassic Park                                  0       0        0    ...      \n",
       "Forrest Gump                                   1       0        0    ...      \n",
       "Titanic                                        1       0        0    ...      \n",
       "Star Wars: Episode I - The Phantom Menace      0       0        1    ...      \n",
       "The Fast and the Furious                       0       0        0    ...      \n",
       "The Secret Life of Walter Mitty                1       0        0    ...      \n",
       "Jurassic World                                 0       0        0    ...      \n",
       "The Rum Diary                                  1       0        0    ...      \n",
       "Gnomeo & Juliet                                0       1        0    ...      \n",
       "The Lovely Bones                               1       0        1    ...      \n",
       "Tangled                                        0       0        0    ...      \n",
       "John Carter                                    0       0        0    ...      \n",
       "Youth in Revolt                                1       0        0    ...      \n",
       "Cowboys & Aliens                               0       0        0    ...      \n",
       "The A-Team                                     0       0        0    ...      \n",
       "The Possession                                 0       0        0    ...      \n",
       "Real Steel                                     1       1        0    ...      \n",
       "\n",
       "                                           Horror  Mystery  Romance  SciFi  \\\n",
       "title                                                                        \n",
       "Alphaville                                      0        1        0      1   \n",
       "Ghostbusters                                    0        0        0      0   \n",
       "Beauty and the Beast                            0        0        0      0   \n",
       "Jurassic Park                                   0        0        0      1   \n",
       "Forrest Gump                                    0        0        1      0   \n",
       "Titanic                                         0        0        1      0   \n",
       "Star Wars: Episode I - The Phantom Menace       0        0        0      0   \n",
       "The Fast and the Furious                        0        0        0      0   \n",
       "The Secret Life of Walter Mitty                 0        0        0      0   \n",
       "Jurassic World                                  0        0        0      1   \n",
       "The Rum Diary                                   0        0        0      0   \n",
       "Gnomeo & Juliet                                 0        0        0      0   \n",
       "The Lovely Bones                                0        0        0      0   \n",
       "Tangled                                         0        0        0      0   \n",
       "John Carter                                     0        0        0      1   \n",
       "Youth in Revolt                                 0        0        1      0   \n",
       "Cowboys & Aliens                                0        0        0      1   \n",
       "The A-Team                                      0        0        0      0   \n",
       "The Possession                                  1        0        0      0   \n",
       "Real Steel                                      0        0        0      0   \n",
       "\n",
       "                                           Thriller  G  PG  PG13  R  NotRated  \n",
       "title                                                                          \n",
       "Alphaville                                        0  0   0     0  0         1  \n",
       "Ghostbusters                                      0  0   1     0  0         0  \n",
       "Beauty and the Beast                              0  1   0     0  0         0  \n",
       "Jurassic Park                                     1  0   0     1  0         0  \n",
       "Forrest Gump                                      0  0   0     1  0         0  \n",
       "Titanic                                           0  0   0     1  0         0  \n",
       "Star Wars: Episode I - The Phantom Menace         0  0   1     0  0         0  \n",
       "The Fast and the Furious                          1  0   0     1  0         0  \n",
       "The Secret Life of Walter Mitty                   0  0   1     0  0         0  \n",
       "Jurassic World                                    0  0   0     1  0         0  \n",
       "The Rum Diary                                     0  0   0     0  1         0  \n",
       "Gnomeo & Juliet                                   0  1   0     0  0         0  \n",
       "The Lovely Bones                                  1  0   0     1  0         0  \n",
       "Tangled                                           0  0   1     0  0         0  \n",
       "John Carter                                       0  0   0     1  0         0  \n",
       "Youth in Revolt                                   0  0   0     0  1         0  \n",
       "Cowboys & Aliens                                  1  0   0     1  0         0  \n",
       "The A-Team                                        0  0   0     1  0         0  \n",
       "The Possession                                    1  0   0     1  0         0  \n",
       "Real Steel                                        0  0   0     1  0         0  \n",
       "\n",
       "[20 rows x 21 columns]"
      ]
     },
     "execution_count": 87,
     "metadata": {},
     "output_type": "execute_result"
    }
   ],
   "source": [
    "subbos = movies_clean.loc[:, ('actor_score', 'director_score', 'Profitability_Ratio', 'Adventure', 'Animation', 'Biography', 'Comedy', 'Drama',\n",
    "       'Family', 'Fantasy', 'History', 'Horror', 'Mystery', 'Romance', 'SciFi', 'Thriller', 'G', 'PG', 'PG13', 'R', 'NotRated')]\n",
    "subbos.head(20)"
   ]
  },
  {
   "cell_type": "code",
   "execution_count": 88,
   "metadata": {},
   "outputs": [
    {
     "name": "stdout",
     "output_type": "stream",
     "text": [
      "                             OLS Regression Results                            \n",
      "===============================================================================\n",
      "Dep. Variable:     Profitability_Ratio   R-squared:                       0.040\n",
      "Model:                             OLS   Adj. R-squared:                  0.031\n",
      "Method:                  Least Squares   F-statistic:                     4.428\n",
      "Date:                 Mon, 16 Apr 2018   Prob (F-statistic):           6.14e-10\n",
      "Time:                         19:36:05   Log-Likelihood:                -5486.1\n",
      "No. Observations:                 2063   AIC:                         1.101e+04\n",
      "Df Residuals:                     2043   BIC:                         1.112e+04\n",
      "Df Model:                           19                                         \n",
      "Covariance Type:             nonrobust                                         \n",
      "==================================================================================\n",
      "                     coef    std err          t      P>|t|      [0.025      0.975]\n",
      "----------------------------------------------------------------------------------\n",
      "Intercept          1.9879      0.230      8.647      0.000       1.537       2.439\n",
      "actor_score       -0.0699      0.132     -0.528      0.598      -0.330       0.190\n",
      "director_score     0.0275      0.123      0.224      0.823      -0.214       0.269\n",
      "Adventure         -0.7208      0.239     -3.013      0.003      -1.190      -0.252\n",
      "Animation         -0.1230      0.407     -0.302      0.763      -0.922       0.676\n",
      "Biography         -0.1996      0.311     -0.642      0.521      -0.809       0.410\n",
      "Comedy            -0.1602      0.192     -0.834      0.405      -0.537       0.217\n",
      "Drama             -0.3799      0.192     -1.982      0.048      -0.756      -0.004\n",
      "Family            -0.1268      0.375     -0.338      0.735      -0.863       0.609\n",
      "Fantasy           -0.5409      0.295     -1.835      0.067      -1.119       0.037\n",
      "History           -0.2460      0.488     -0.504      0.614      -1.203       0.711\n",
      "Horror             1.8769      0.298      6.301      0.000       1.293       2.461\n",
      "Mystery           -0.1912      0.297     -0.643      0.520      -0.774       0.392\n",
      "Romance           -0.0886      0.219     -0.405      0.686      -0.518       0.341\n",
      "SciFi             -0.1835      0.309     -0.594      0.553      -0.790       0.423\n",
      "Thriller          -0.5231      0.241     -2.172      0.030      -0.995      -0.051\n",
      "G                  1.7552      0.489      3.586      0.000       0.795       2.715\n",
      "PG                 0.5157      0.254      2.031      0.042       0.018       1.014\n",
      "PG13               0.3018      0.182      1.659      0.097      -0.055       0.659\n",
      "R                  0.1751      0.181      0.967      0.334      -0.180       0.530\n",
      "NotRated          -0.7600      0.323     -2.354      0.019      -1.393      -0.127\n",
      "==============================================================================\n",
      "Omnibus:                     3810.259   Durbin-Watson:                   1.975\n",
      "Prob(Omnibus):                  0.000   Jarque-Bera (JB):          8941491.533\n",
      "Skew:                          13.126   Prob(JB):                         0.00\n",
      "Kurtosis:                     324.453   Cond. No.                     1.81e+15\n",
      "==============================================================================\n",
      "\n",
      "Warnings:\n",
      "[1] Standard Errors assume that the covariance matrix of the errors is correctly specified.\n",
      "[2] The smallest eigenvalue is 1.31e-27. This might indicate that there are\n",
      "strong multicollinearity problems or that the design matrix is singular.\n"
     ]
    }
   ],
   "source": [
    "m = ols('Profitability_Ratio ~ actor_score + director_score + Adventure + Animation + Biography + Comedy + Drama + Family + Fantasy + History + Horror + Mystery + Romance + SciFi + Thriller + G + PG + PG13 + R + NotRated', subbos).fit()\n",
    "print(m.summary())"
   ]
  },
  {
   "cell_type": "code",
   "execution_count": 89,
   "metadata": {
    "collapsed": true
   },
   "outputs": [],
   "source": [
    "#Next Steps: Find DataCamp lesson on standardizing/normalizing the variables to be on the same scale\n",
    "#2: Standardize Variables (runtime, budget, actor and director score)\n",
    "#3: Take Standardized Variables and Make better model (optional: add seasons back in as a dummy var.)\n",
    "#4: Remove variables "
   ]
  },
  {
   "cell_type": "code",
   "execution_count": 90,
   "metadata": {},
   "outputs": [
    {
     "name": "stdout",
     "output_type": "stream",
     "text": [
      "                             OLS Regression Results                            \n",
      "===============================================================================\n",
      "Dep. Variable:     Profitability_Ratio   R-squared:                       0.046\n",
      "Model:                             OLS   Adj. R-squared:                  0.036\n",
      "Method:                  Least Squares   F-statistic:                     4.714\n",
      "Date:                 Mon, 16 Apr 2018   Prob (F-statistic):           9.29e-12\n",
      "Time:                         19:36:05   Log-Likelihood:                -5478.8\n",
      "No. Observations:                 2063   AIC:                         1.100e+04\n",
      "Df Residuals:                     2041   BIC:                         1.113e+04\n",
      "Df Model:                           21                                         \n",
      "Covariance Type:             nonrobust                                         \n",
      "==================================================================================\n",
      "                     coef    std err          t      P>|t|      [0.025      0.975]\n",
      "----------------------------------------------------------------------------------\n",
      "Intercept          1.6468      0.499      3.298      0.001       0.668       2.626\n",
      "actor_score       -0.0192      0.134     -0.143      0.886      -0.282       0.244\n",
      "director_score     0.0159      0.126      0.127      0.899      -0.230       0.262\n",
      "Budget         -5.706e-09   1.52e-09     -3.764      0.000   -8.68e-09   -2.73e-09\n",
      "runtime            0.0058      0.005      1.099      0.272      -0.005       0.016\n",
      "Adventure         -0.4963      0.248     -2.000      0.046      -0.983      -0.010\n",
      "Animation          0.0829      0.416      0.199      0.842      -0.732       0.898\n",
      "Biography         -0.2626      0.311     -0.843      0.399      -0.873       0.348\n",
      "Comedy            -0.1527      0.194     -0.789      0.430      -0.532       0.227\n",
      "Drama             -0.4732      0.195     -2.430      0.015      -0.855      -0.091\n",
      "Family            -0.0300      0.375     -0.080      0.936      -0.766       0.706\n",
      "Fantasy           -0.4484      0.295     -1.520      0.129      -1.027       0.130\n",
      "History           -0.3243      0.493     -0.658      0.510      -1.291       0.642\n",
      "Horror             1.8178      0.300      6.051      0.000       1.229       2.407\n",
      "Mystery           -0.2234      0.297     -0.753      0.451      -0.805       0.358\n",
      "Romance           -0.1259      0.219     -0.576      0.565      -0.555       0.303\n",
      "SciFi             -0.0792      0.310     -0.256      0.798      -0.687       0.528\n",
      "Thriller          -0.5053      0.240     -2.103      0.036      -0.976      -0.034\n",
      "G                  1.5387      0.494      3.112      0.002       0.569       2.508\n",
      "PG                 0.4188      0.265      1.582      0.114      -0.101       0.938\n",
      "PG13               0.2790      0.206      1.353      0.176      -0.125       0.683\n",
      "R                  0.0605      0.207      0.293      0.770      -0.345       0.466\n",
      "NotRated          -0.6501      0.342     -1.902      0.057      -1.320       0.020\n",
      "==============================================================================\n",
      "Omnibus:                     3823.590   Durbin-Watson:                   1.981\n",
      "Prob(Omnibus):                  0.000   Jarque-Bera (JB):          9199838.502\n",
      "Skew:                          13.220   Prob(JB):                         0.00\n",
      "Kurtosis:                     329.079   Cond. No.                     1.12e+23\n",
      "==============================================================================\n",
      "\n",
      "Warnings:\n",
      "[1] Standard Errors assume that the covariance matrix of the errors is correctly specified.\n",
      "[2] The smallest eigenvalue is 9.93e-28. This might indicate that there are\n",
      "strong multicollinearity problems or that the design matrix is singular.\n"
     ]
    }
   ],
   "source": [
    "#Maximum Model, using all available variables before any trimming. \n",
    "# F-statistic of 2.064, with a Prob of 3x10^-23. Pretty good, but can it be improved by taking out 'junk' features?\n",
    "\n",
    "subbos = movies_clean.loc[:, ('actor_score', 'director_score', 'Budget', 'runtime', 'Profitability_Ratio', 'Adventure', 'Animation', 'Biography', 'Comedy', 'Drama',\n",
    "       'Family', 'Fantasy', 'History', 'Horror', 'Mystery', 'Romance', 'SciFi', 'Thriller', 'G', 'PG', 'PG13', 'R', 'NotRated')]\n",
    "subbos.head(20)\n",
    "\n",
    "m = ols('Profitability_Ratio ~ actor_score + director_score + Budget + runtime + Adventure + Animation + Biography + Comedy + Drama + Family + Fantasy + History + Horror + Mystery + Romance + SciFi + Thriller + G + PG + PG13 + R + NotRated', subbos).fit()\n",
    "print(m.summary())"
   ]
  },
  {
   "cell_type": "code",
   "execution_count": 91,
   "metadata": {},
   "outputs": [
    {
     "name": "stdout",
     "output_type": "stream",
     "text": [
      "                             OLS Regression Results                            \n",
      "===============================================================================\n",
      "Dep. Variable:     Profitability_Ratio   R-squared:                       0.041\n",
      "Model:                             OLS   Adj. R-squared:                  0.033\n",
      "Method:                  Least Squares   F-statistic:                     5.116\n",
      "Date:                 Mon, 16 Apr 2018   Prob (F-statistic):           4.00e-11\n",
      "Time:                         19:36:05   Log-Likelihood:                -5484.7\n",
      "No. Observations:                 2063   AIC:                         1.101e+04\n",
      "Df Residuals:                     2045   BIC:                         1.111e+04\n",
      "Df Model:                           17                                         \n",
      "Covariance Type:             nonrobust                                         \n",
      "==================================================================================\n",
      "                     coef    std err          t      P>|t|      [0.025      0.975]\n",
      "----------------------------------------------------------------------------------\n",
      "Intercept          1.8438      0.589      3.131      0.002       0.689       2.999\n",
      "actor_score        0.0223      0.133      0.168      0.867      -0.239       0.283\n",
      "director_score     0.0316      0.125      0.252      0.801      -0.214       0.278\n",
      "Budget           -6.1e-09   1.49e-09     -4.092      0.000   -9.02e-09   -3.18e-09\n",
      "runtime            0.0051      0.005      0.952      0.341      -0.005       0.015\n",
      "Adventure         -0.3372      0.240     -1.403      0.161      -0.809       0.134\n",
      "Animation          0.3651      0.372      0.981      0.327      -0.365       1.095\n",
      "Biography         -0.2234      0.311     -0.718      0.473      -0.833       0.387\n",
      "Comedy            -0.1176      0.193     -0.608      0.543      -0.497       0.262\n",
      "Drama             -0.5036      0.195     -2.589      0.010      -0.885      -0.122\n",
      "Family             0.1934      0.314      0.615      0.538      -0.423       0.810\n",
      "Fantasy           -0.3934      0.294     -1.337      0.181      -0.970       0.184\n",
      "History           -0.2987      0.494     -0.605      0.545      -1.267       0.669\n",
      "Horror             1.7577      0.299      5.874      0.000       1.171       2.345\n",
      "Mystery           -0.1939      0.297     -0.653      0.514      -0.776       0.388\n",
      "Romance           -0.0918      0.217     -0.424      0.672      -0.517       0.333\n",
      "SciFi             -0.0443      0.309     -0.143      0.886      -0.649       0.561\n",
      "Thriller          -0.4898      0.239     -2.046      0.041      -0.959      -0.020\n",
      "==============================================================================\n",
      "Omnibus:                     3805.030   Durbin-Watson:                   1.976\n",
      "Prob(Omnibus):                  0.000   Jarque-Bera (JB):          8965815.936\n",
      "Skew:                          13.083   Prob(JB):                         0.00\n",
      "Kurtosis:                     324.900   Cond. No.                     6.40e+08\n",
      "==============================================================================\n",
      "\n",
      "Warnings:\n",
      "[1] Standard Errors assume that the covariance matrix of the errors is correctly specified.\n",
      "[2] The condition number is large, 6.4e+08. This might indicate that there are\n",
      "strong multicollinearity or other numerical problems.\n"
     ]
    }
   ],
   "source": [
    "# It looks like the Censorship ratings, e.g. G, PG, PG-13, don't seem to matter in profitability at all, considering their .962\n",
    "# p-value. Removing them \n",
    "\n",
    "m = ols('Profitability_Ratio ~ actor_score + director_score + Budget + runtime + Adventure + Animation + Biography + Comedy + Drama + Family + Fantasy + History + Horror + Mystery + Romance + SciFi + Thriller', subbos).fit()\n",
    "print(m.summary())\n",
    "\n",
    "###\n",
    "#1. m.predict\n",
    "#2. score with scikit (validation set) \n",
    "#3. score with test set and walk away"
   ]
  },
  {
   "cell_type": "code",
   "execution_count": 92,
   "metadata": {
    "collapsed": true
   },
   "outputs": [],
   "source": [
    "predictors = movies_clean.loc[:, ('actor_score', 'director_score', 'Adventure', 'Animation', 'Biography', 'Comedy', 'Drama',\n",
    "       'Family', 'Fantasy', 'History', 'Horror', 'Mystery', 'Romance', 'SciFi', 'Thriller', 'G', 'PG', 'PG13', 'R', 'NotRated')]\n"
   ]
  },
  {
   "cell_type": "code",
   "execution_count": 93,
   "metadata": {},
   "outputs": [
    {
     "data": {
      "image/png": "[encoded data removed]",
      "text/plain": [
       "<matplotlib.figure.Figure at 0x2b20ca44eb8>"
      ]
     },
     "metadata": {},
     "output_type": "display_data"
    }
   ],
   "source": [
    "plt.boxplot(movies_clean['Budget'])\n",
    "plt.title('Budget Distribution')\n",
    "plt.show()"
   ]
  },
  {
   "cell_type": "code",
   "execution_count": 94,
   "metadata": {},
   "outputs": [
    {
     "data": {
      "text/plain": [
       "count    2.063000e+03\n",
       "mean     4.506015e+07\n",
       "std      6.348249e+07\n",
       "min      3.000000e+03\n",
       "25%      1.000000e+07\n",
       "50%      2.500000e+07\n",
       "75%      5.800000e+07\n",
       "max      8.500000e+08\n",
       "Name: Budget, dtype: float64"
      ]
     },
     "execution_count": 94,
     "metadata": {},
     "output_type": "execute_result"
    }
   ],
   "source": [
    "movies_clean['Budget'].describe()\n",
    "#Any budget greater than $58,000,000 will get capped off there. \n",
    "#Any budget less than $1,000,000 will get capped off there. "
   ]
  },
  {
   "cell_type": "code",
   "execution_count": 134,
   "metadata": {},
   "outputs": [
    {
     "name": "stdout",
     "output_type": "stream",
     "text": [
      "1100000.0\n",
      "160000000.0\n"
     ]
    }
   ],
   "source": [
    "p = np.percentile(movies_clean['Budget'], 5)\n",
    "print(p)\n",
    "p = np.percentile(movies_clean['Budget'], 95)\n",
    "print(p)"
   ]
  },
  {
   "cell_type": "code",
   "execution_count": 95,
   "metadata": {},
   "outputs": [
    {
     "name": "stderr",
     "output_type": "stream",
     "text": [
      "C:\\Users\\Brook\\Anaconda3\\lib\\site-packages\\ipykernel_launcher.py:1: SettingWithCopyWarning: \n",
      "A value is trying to be set on a copy of a slice from a DataFrame.\n",
      "Try using .loc[row_indexer,col_indexer] = value instead\n",
      "\n",
      "See the caveats in the documentation: http://pandas.pydata.org/pandas-docs/stable/indexing.html#indexing-view-versus-copy\n",
      "  \"\"\"Entry point for launching an IPython kernel.\n"
     ]
    }
   ],
   "source": [
    "movies_clean['Budget_adjusted'] = 0"
   ]
  },
  {
   "cell_type": "code",
   "execution_count": 96,
   "metadata": {
    "scrolled": false
   },
   "outputs": [
    {
     "name": "stderr",
     "output_type": "stream",
     "text": [
      "C:\\Users\\Brook\\Anaconda3\\lib\\site-packages\\pandas\\core\\indexing.py:517: SettingWithCopyWarning: \n",
      "A value is trying to be set on a copy of a slice from a DataFrame.\n",
      "Try using .loc[row_indexer,col_indexer] = value instead\n",
      "\n",
      "See the caveats in the documentation: http://pandas.pydata.org/pandas-docs/stable/indexing.html#indexing-view-versus-copy\n",
      "  self.obj[item] = s\n"
     ]
    }
   ],
   "source": [
    "movies_clean.iloc[0, 32] = 1000\n",
    "\n"
   ]
  },
  {
   "cell_type": "code",
   "execution_count": 97,
   "metadata": {},
   "outputs": [
    {
     "name": "stderr",
     "output_type": "stream",
     "text": [
      "C:\\Users\\Brook\\Anaconda3\\lib\\site-packages\\pandas\\core\\indexing.py:517: SettingWithCopyWarning: \n",
      "A value is trying to be set on a copy of a slice from a DataFrame.\n",
      "Try using .loc[row_indexer,col_indexer] = value instead\n",
      "\n",
      "See the caveats in the documentation: http://pandas.pydata.org/pandas-docs/stable/indexing.html#indexing-view-versus-copy\n",
      "  self.obj[item] = s\n"
     ]
    }
   ],
   "source": [
    "#Warning: Takes a LONG time!\n",
    "\n",
    "idx = 0 \n",
    "    \n",
    "for budgets in movies_clean['Budget_adjusted'] :\n",
    "    if movies_clean.iloc[idx, 8] <= 1000000 :\n",
    "        movies_clean.iloc[idx, 32] = 1000000\n",
    "    elif movies_clean.iloc[idx, 8] >= 58000000 : \n",
    "        movies_clean.iloc[idx, 32] = 58000000 \n",
    "    else :\n",
    "        movies_clean.iloc[idx, 32] = int(movies_clean.iloc[idx, 8])\n",
    "    idx += 1 "
   ]
  },
  {
   "cell_type": "code",
   "execution_count": 98,
   "metadata": {},
   "outputs": [
    {
     "name": "stderr",
     "output_type": "stream",
     "text": [
      "C:\\Users\\Brook\\Anaconda3\\lib\\site-packages\\ipykernel_launcher.py:8: SettingWithCopyWarning: \n",
      "A value is trying to be set on a copy of a slice from a DataFrame.\n",
      "Try using .loc[row_indexer,col_indexer] = value instead\n",
      "\n",
      "See the caveats in the documentation: http://pandas.pydata.org/pandas-docs/stable/indexing.html#indexing-view-versus-copy\n",
      "  \n",
      "C:\\Users\\Brook\\Anaconda3\\lib\\site-packages\\pandas\\core\\indexing.py:517: SettingWithCopyWarning: \n",
      "A value is trying to be set on a copy of a slice from a DataFrame.\n",
      "Try using .loc[row_indexer,col_indexer] = value instead\n",
      "\n",
      "See the caveats in the documentation: http://pandas.pydata.org/pandas-docs/stable/indexing.html#indexing-view-versus-copy\n",
      "  self.obj[item] = s\n"
     ]
    }
   ],
   "source": [
    "\"\"\"\n",
    "For Playing with Release Dates. Takes a long time.\n",
    "\n",
    "\"\"\"\n",
    "\n",
    "idx = 0 \n",
    "\n",
    "movies_clean['age'] = 53\n",
    "for dates in movies_clean['release_date'] :\n",
    "    if idx < 1 :\n",
    "        movies_clean.iloc[0, 33] = 53\n",
    "    else: \n",
    "        movies_clean.iloc[idx, 33] = (2018 - movies_clean.iloc[idx, 4].year)\n",
    "    idx += 1 \n"
   ]
  },
  {
   "cell_type": "code",
   "execution_count": 99,
   "metadata": {
    "collapsed": true
   },
   "outputs": [],
   "source": [
    "\"\"\"\n",
    "Doing it OLS style. There will be two models, a \"pre-movie\" model containing all variables except release_date/age and IMDB rating,\n",
    "and a \"released movie\" model containing everything. \n",
    "\"\"\"\n",
    "\n",
    "#Cutting up the dataset into train/validate/test splits\n",
    "movies_train = movies_clean[:1200]\n",
    "movies_validation = movies_clean[1201:1600]\n",
    "movies_test = movies_clean[1601:]\n"
   ]
  },
  {
   "cell_type": "code",
   "execution_count": 100,
   "metadata": {
    "collapsed": true
   },
   "outputs": [],
   "source": [
    "subbos = movies_train.loc[:, ('actor_score', 'director_score', 'Budget_adjusted', 'runtime', 'Profitability_Ratio', 'Adventure', 'Animation', 'Biography', 'Comedy', 'Drama',\n",
    "       'Family', 'Fantasy', 'History', 'Horror', 'Mystery', 'Romance', 'SciFi', 'Thriller', 'G', 'PG', 'PG13', 'R', 'NotRated')]\n",
    "\n"
   ]
  },
  {
   "cell_type": "code",
   "execution_count": 102,
   "metadata": {},
   "outputs": [
    {
     "name": "stdout",
     "output_type": "stream",
     "text": [
      "                             OLS Regression Results                            \n",
      "===============================================================================\n",
      "Dep. Variable:     Profitability_Ratio   R-squared:                       0.087\n",
      "Model:                             OLS   Adj. R-squared:                  0.071\n",
      "Method:                  Least Squares   F-statistic:                     5.375\n",
      "Date:                 Tue, 17 Apr 2018   Prob (F-statistic):           8.24e-14\n",
      "Time:                         09:03:48   Log-Likelihood:                -3331.2\n",
      "No. Observations:                 1200   AIC:                             6706.\n",
      "Df Residuals:                     1178   BIC:                             6818.\n",
      "Df Model:                           21                                         \n",
      "Covariance Type:             nonrobust                                         \n",
      "===================================================================================\n",
      "                      coef    std err          t      P>|t|      [0.025      0.975]\n",
      "-----------------------------------------------------------------------------------\n",
      "Intercept           2.1083      0.765      2.755      0.006       0.607       3.610\n",
      "actor_score         0.1790      0.202      0.888      0.375      -0.216       0.574\n",
      "director_score      0.0085      0.179      0.048      0.962      -0.342       0.359\n",
      "Budget_adjusted -5.075e-08   7.45e-09     -6.813      0.000   -6.54e-08   -3.61e-08\n",
      "runtime             0.0132      0.008      1.621      0.105      -0.003       0.029\n",
      "Adventure          -0.2327      0.357     -0.652      0.515      -0.933       0.468\n",
      "Animation           0.7451      0.586      1.272      0.204      -0.404       1.894\n",
      "Biography          -0.2998      0.465     -0.644      0.520      -1.213       0.613\n",
      "Comedy             -0.1405      0.301     -0.466      0.641      -0.732       0.451\n",
      "Drama              -0.9612      0.294     -3.273      0.001      -1.537      -0.385\n",
      "Family              0.1380      0.526      0.262      0.793      -0.894       1.170\n",
      "Fantasy            -0.0522      0.430     -0.121      0.903      -0.896       0.792\n",
      "History            -0.0144      0.747     -0.019      0.985      -1.480       1.451\n",
      "Horror              2.1269      0.444      4.787      0.000       1.255       2.999\n",
      "Mystery            -0.2452      0.448     -0.547      0.585      -1.125       0.634\n",
      "Romance            -0.1042      0.348     -0.299      0.765      -0.788       0.579\n",
      "SciFi              -0.1460      0.429     -0.340      0.734      -0.988       0.696\n",
      "Thriller           -0.3910      0.365     -1.073      0.284      -1.106       0.324\n",
      "G                   1.3708      0.691      1.983      0.048       0.014       2.727\n",
      "PG                  0.6815      0.383      1.781      0.075      -0.069       1.432\n",
      "PG13                0.6052      0.324      1.869      0.062      -0.030       1.241\n",
      "R                   0.2815      0.319      0.881      0.378      -0.345       0.908\n",
      "NotRated           -0.8308      0.687     -1.210      0.227      -2.178       0.517\n",
      "==============================================================================\n",
      "Omnibus:                     2307.296   Durbin-Watson:                   1.989\n",
      "Prob(Omnibus):                  0.000   Jarque-Bera (JB):          5150390.511\n",
      "Skew:                          13.953   Prob(JB):                         0.00\n",
      "Kurtosis:                     322.733   Cond. No.                     3.98e+22\n",
      "==============================================================================\n",
      "\n",
      "Warnings:\n",
      "[1] Standard Errors assume that the covariance matrix of the errors is correctly specified.\n",
      "[2] The smallest eigenvalue is 1.07e-27. This might indicate that there are\n",
      "strong multicollinearity problems or that the design matrix is singular.\n"
     ]
    },
    {
     "data": {
      "text/plain": [
       "6.135503306815596"
      ]
     },
     "execution_count": 102,
     "metadata": {},
     "output_type": "execute_result"
    }
   ],
   "source": [
    "m = ols('Profitability_Ratio ~ actor_score + director_score + Budget_adjusted + runtime + Adventure + Animation + Biography + Comedy + Drama + Family + Fantasy + History + Horror + Mystery + Romance + SciFi + Thriller + G + PG + PG13 + R + NotRated', subbos).fit()\n",
    "print(m.summary())\n",
    "\n",
    "import sklearn.metrics\n",
    "preds = m.predict(movies_validation)\n",
    "sklearn.metrics.mean_squared_error(movies_validation['Profitability_Ratio'], preds)\n",
    "\n",
    "#Our initial Mean Squared Error (MSE) is an indicator of how accurate our resuilts are. The higher the MSe,\n",
    "#The higher the discrepancy between our predicted results and the real measures. As we eliminate \n",
    "#more non-significant variables from our model, our MSE model should drop each time. \n",
    "\n",
    "#Lastly, each variable within the final model will be removed and tested to validate that its removal\n",
    "#would harm the accuracy of the model. "
   ]
  },
  {
   "cell_type": "code",
   "execution_count": 103,
   "metadata": {},
   "outputs": [
    {
     "name": "stdout",
     "output_type": "stream",
     "text": [
      "                             OLS Regression Results                            \n",
      "===============================================================================\n",
      "Dep. Variable:     Profitability_Ratio   R-squared:                       0.087\n",
      "Model:                             OLS   Adj. R-squared:                  0.074\n",
      "Method:                  Least Squares   F-statistic:                     6.648\n",
      "Date:                 Tue, 17 Apr 2018   Prob (F-statistic):           2.20e-15\n",
      "Time:                         09:03:53   Log-Likelihood:                -3331.3\n",
      "No. Observations:                 1200   AIC:                             6699.\n",
      "Df Residuals:                     1182   BIC:                             6790.\n",
      "Df Model:                           17                                         \n",
      "Covariance Type:             nonrobust                                         \n",
      "===================================================================================\n",
      "                      coef    std err          t      P>|t|      [0.025      0.975]\n",
      "-----------------------------------------------------------------------------------\n",
      "Intercept           1.9549      0.669      2.920      0.004       0.641       3.268\n",
      "actor_score         0.1829      0.200      0.915      0.361      -0.209       0.575\n",
      "Budget_adjusted -5.105e-08    7.3e-09     -6.996      0.000   -6.54e-08   -3.67e-08\n",
      "runtime             0.0139      0.008      1.833      0.067      -0.001       0.029\n",
      "Adventure          -0.1933      0.345     -0.560      0.576      -0.871       0.484\n",
      "Animation           0.7414      0.575      1.288      0.198      -0.388       1.870\n",
      "Biography          -0.2608      0.450     -0.579      0.563      -1.144       0.623\n",
      "Drama              -0.9179      0.278     -3.303      0.001      -1.463      -0.373\n",
      "Family              0.1596      0.520      0.307      0.759      -0.861       1.181\n",
      "Horror              2.1639      0.433      4.995      0.000       1.314       3.014\n",
      "Mystery            -0.2078      0.439     -0.473      0.636      -1.069       0.653\n",
      "Romance            -0.1131      0.345     -0.328      0.743      -0.791       0.564\n",
      "SciFi              -0.0985      0.411     -0.239      0.811      -0.905       0.708\n",
      "Thriller           -0.3236      0.333     -0.972      0.331      -0.977       0.330\n",
      "G                   1.3357      0.686      1.946      0.052      -0.011       2.682\n",
      "PG                  0.6407      0.371      1.726      0.085      -0.087       1.369\n",
      "PG13                0.5780      0.313      1.847      0.065      -0.036       1.192\n",
      "R                   0.2499      0.309      0.808      0.419      -0.357       0.856\n",
      "NotRated           -0.8493      0.682     -1.246      0.213      -2.187       0.488\n",
      "==============================================================================\n",
      "Omnibus:                     2309.760   Durbin-Watson:                   1.987\n",
      "Prob(Omnibus):                  0.000   Jarque-Bera (JB):          5183894.779\n",
      "Skew:                          13.985   Prob(JB):                         0.00\n",
      "Kurtosis:                     323.773   Cond. No.                     4.03e+22\n",
      "==============================================================================\n",
      "\n",
      "Warnings:\n",
      "[1] Standard Errors assume that the covariance matrix of the errors is correctly specified.\n",
      "[2] The smallest eigenvalue is 1.05e-27. This might indicate that there are\n",
      "strong multicollinearity problems or that the design matrix is singular.\n"
     ]
    },
    {
     "data": {
      "text/plain": [
       "6.1282853072357391"
      ]
     },
     "execution_count": 103,
     "metadata": {},
     "output_type": "execute_result"
    }
   ],
   "source": [
    "#\"Fantasy\", \"Comedy\", \"Director Score\" and \"History\" seem to be not too relevant here \n",
    "subbos = movies_train.loc[:, ('actor_score', 'Budget_adjusted', 'runtime', 'Profitability_Ratio', 'Adventure', 'Animation', 'Biography', 'Drama',\n",
    "       'Family', 'Horror', 'Mystery', 'Romance', 'SciFi', 'Thriller', 'G', 'PG', 'PG13', 'R', 'NotRated')]\n",
    "\n",
    "m = ols('Profitability_Ratio ~ actor_score + Budget_adjusted + runtime + Adventure + Animation + Biography + Drama + Family + Horror + Mystery + Romance + SciFi + Thriller + G + PG + PG13 + R + NotRated', subbos).fit()\n",
    "print(m.summary())\n",
    "\n",
    "preds = m.predict(movies_validation)\n",
    "sklearn.metrics.mean_squared_error(movies_validation['Profitability_Ratio'], preds)"
   ]
  },
  {
   "cell_type": "code",
   "execution_count": 104,
   "metadata": {},
   "outputs": [
    {
     "name": "stdout",
     "output_type": "stream",
     "text": [
      "                             OLS Regression Results                            \n",
      "===============================================================================\n",
      "Dep. Variable:     Profitability_Ratio   R-squared:                       0.084\n",
      "Model:                             OLS   Adj. R-squared:                  0.076\n",
      "Method:                  Least Squares   F-statistic:                     10.91\n",
      "Date:                 Tue, 17 Apr 2018   Prob (F-statistic):           6.26e-18\n",
      "Time:                         09:03:54   Log-Likelihood:                -3333.4\n",
      "No. Observations:                 1200   AIC:                             6689.\n",
      "Df Residuals:                     1189   BIC:                             6745.\n",
      "Df Model:                           10                                         \n",
      "Covariance Type:             nonrobust                                         \n",
      "===================================================================================\n",
      "                      coef    std err          t      P>|t|      [0.025      0.975]\n",
      "-----------------------------------------------------------------------------------\n",
      "Intercept           1.9658      0.775      2.536      0.011       0.445       3.487\n",
      "Budget_adjusted -4.872e-08   7.12e-09     -6.842      0.000   -6.27e-08   -3.48e-08\n",
      "runtime             0.0142      0.007      1.908      0.057      -0.000       0.029\n",
      "Adventure          -0.1503      0.331     -0.454      0.650      -0.800       0.499\n",
      "Animation           0.6712      0.555      1.210      0.226      -0.417       1.759\n",
      "Biography          -0.2408      0.441     -0.545      0.586      -1.107       0.625\n",
      "Drama              -0.8548      0.269     -3.174      0.002      -1.383      -0.326\n",
      "Horror              2.0805      0.422      4.930      0.000       1.253       2.908\n",
      "G                   1.2938      0.827      1.564      0.118      -0.329       2.917\n",
      "PG                  0.5845      0.393      1.488      0.137      -0.186       1.355\n",
      "PG13                0.3750      0.269      1.395      0.163      -0.152       0.902\n",
      "==============================================================================\n",
      "Omnibus:                     2312.070   Durbin-Watson:                   1.992\n",
      "Prob(Omnibus):                  0.000   Jarque-Bera (JB):          5230486.787\n",
      "Skew:                          14.013   Prob(JB):                         0.00\n",
      "Kurtosis:                     325.218   Cond. No.                     2.96e+08\n",
      "==============================================================================\n",
      "\n",
      "Warnings:\n",
      "[1] Standard Errors assume that the covariance matrix of the errors is correctly specified.\n",
      "[2] The condition number is large, 2.96e+08. This might indicate that there are\n",
      "strong multicollinearity or other numerical problems.\n"
     ]
    },
    {
     "data": {
      "text/plain": [
       "6.1092653806119417"
      ]
     },
     "execution_count": 104,
     "metadata": {},
     "output_type": "execute_result"
    }
   ],
   "source": [
    "#Let's also kick out actor_score, biography, family, mystery, romance, scifi, thriller, R, and NotRated\n",
    "\n",
    "m = ols('Profitability_Ratio ~ Budget_adjusted + runtime + Adventure + Animation + Biography + Drama + Horror + G + PG + PG13', subbos).fit()\n",
    "print(m.summary())\n",
    "\n",
    "preds = m.predict(movies_validation)\n",
    "sklearn.metrics.mean_squared_error(movies_validation['Profitability_Ratio'], preds)"
   ]
  },
  {
   "cell_type": "code",
   "execution_count": 105,
   "metadata": {},
   "outputs": [
    {
     "name": "stdout",
     "output_type": "stream",
     "text": [
      "                             OLS Regression Results                            \n",
      "===============================================================================\n",
      "Dep. Variable:     Profitability_Ratio   R-squared:                       0.078\n",
      "Model:                             OLS   Adj. R-squared:                  0.075\n",
      "Method:                  Least Squares   F-statistic:                     25.13\n",
      "Date:                 Tue, 17 Apr 2018   Prob (F-statistic):           5.21e-20\n",
      "Time:                         09:04:00   Log-Likelihood:                -3337.6\n",
      "No. Observations:                 1200   AIC:                             6685.\n",
      "Df Residuals:                     1195   BIC:                             6711.\n",
      "Df Model:                            4                                         \n",
      "Covariance Type:             nonrobust                                         \n",
      "===================================================================================\n",
      "                      coef    std err          t      P>|t|      [0.025      0.975]\n",
      "-----------------------------------------------------------------------------------\n",
      "Intercept           2.8871      0.697      4.141      0.000       1.519       4.255\n",
      "Budget_adjusted -4.331e-08   6.28e-09     -6.900      0.000   -5.56e-08    -3.1e-08\n",
      "runtime             0.0073      0.007      1.060      0.289      -0.006       0.021\n",
      "Drama              -0.9363      0.260     -3.596      0.000      -1.447      -0.425\n",
      "Horror              1.8740      0.413      4.542      0.000       1.065       2.683\n",
      "==============================================================================\n",
      "Omnibus:                     2298.645   Durbin-Watson:                   1.984\n",
      "Prob(Omnibus):                  0.000   Jarque-Bera (JB):          5032949.792\n",
      "Skew:                          13.841   Prob(JB):                         0.00\n",
      "Kurtosis:                     319.058   Cond. No.                     2.35e+08\n",
      "==============================================================================\n",
      "\n",
      "Warnings:\n",
      "[1] Standard Errors assume that the covariance matrix of the errors is correctly specified.\n",
      "[2] The condition number is large, 2.35e+08. This might indicate that there are\n",
      "strong multicollinearity or other numerical problems.\n"
     ]
    },
    {
     "data": {
      "text/plain": [
       "6.0785862656566119"
      ]
     },
     "execution_count": 105,
     "metadata": {},
     "output_type": "execute_result"
    }
   ],
   "source": [
    "#Based on these, we can also trim out Adventure, Animation, Biography, G, PG, PG13\n",
    "m = ols('Profitability_Ratio ~ Budget_adjusted + runtime + Drama + Horror', subbos).fit()\n",
    "print(m.summary())\n",
    "\n",
    "preds = m.predict(movies_validation)\n",
    "sklearn.metrics.mean_squared_error(movies_validation['Profitability_Ratio'], preds)"
   ]
  },
  {
   "cell_type": "code",
   "execution_count": 106,
   "metadata": {},
   "outputs": [
    {
     "name": "stdout",
     "output_type": "stream",
     "text": [
      "                             OLS Regression Results                            \n",
      "===============================================================================\n",
      "Dep. Variable:     Profitability_Ratio   R-squared:                       0.077\n",
      "Model:                             OLS   Adj. R-squared:                  0.074\n",
      "Method:                  Least Squares   F-statistic:                     33.13\n",
      "Date:                 Tue, 17 Apr 2018   Prob (F-statistic):           1.43e-20\n",
      "Time:                         09:04:03   Log-Likelihood:                -3338.2\n",
      "No. Observations:                 1200   AIC:                             6684.\n",
      "Df Residuals:                     1196   BIC:                             6705.\n",
      "Df Model:                            3                                         \n",
      "Covariance Type:             nonrobust                                         \n",
      "===================================================================================\n",
      "                      coef    std err          t      P>|t|      [0.025      0.975]\n",
      "-----------------------------------------------------------------------------------\n",
      "Intercept           3.5625      0.282     12.611      0.000       3.008       4.117\n",
      "Budget_adjusted -4.082e-08   5.82e-09     -7.012      0.000   -5.22e-08   -2.94e-08\n",
      "Drama              -0.8363      0.243     -3.446      0.001      -1.312      -0.360\n",
      "Horror              1.8520      0.412      4.494      0.000       1.044       2.660\n",
      "==============================================================================\n",
      "Omnibus:                     2295.279   Durbin-Watson:                   1.983\n",
      "Prob(Omnibus):                  0.000   Jarque-Bera (JB):          4990742.105\n",
      "Skew:                          13.797   Prob(JB):                         0.00\n",
      "Kurtosis:                     317.727   Cond. No.                     1.50e+08\n",
      "==============================================================================\n",
      "\n",
      "Warnings:\n",
      "[1] Standard Errors assume that the covariance matrix of the errors is correctly specified.\n",
      "[2] The condition number is large, 1.5e+08. This might indicate that there are\n",
      "strong multicollinearity or other numerical problems.\n"
     ]
    }
   ],
   "source": [
    "#Let's take out runtime and be done.\n",
    "m = ols('Profitability_Ratio ~ Budget_adjusted + Drama + Horror', subbos).fit()\n",
    "print(m.summary())\n",
    "\n",
    "#Interestingly enough, the only variables that proved to be significant in our model were budget(adjusted), drama, and horror. \n",
    "#All of the other contrived values didn't seem to matter in our case. The Prob (F-statistic) is very low, which is a promising\n",
    "#Sign that our results are at least on the right track. \n",
    "#Another interesting note is that during the actual competition presentations for this project, some of my colleagues had \n",
    "#Stated that \"adventure\" movies were the best to profit with, when that now only seems ot be a half-truth. They may gross more\n",
    "#money, but in reality the profitable genres are drama and horror! \n",
    "\n"
   ]
  },
  {
   "cell_type": "code",
   "execution_count": 107,
   "metadata": {
    "collapsed": true
   },
   "outputs": [],
   "source": [
    "#Take predictions and make comparisons with certain variables dropped\n",
    "\n",
    "preds = m.predict(movies_validation)"
   ]
  },
  {
   "cell_type": "code",
   "execution_count": 108,
   "metadata": {},
   "outputs": [
    {
     "data": {
      "text/plain": [
       "6.0960293960351244"
      ]
     },
     "execution_count": 108,
     "metadata": {},
     "output_type": "execute_result"
    }
   ],
   "source": [
    "preds\n",
    "import sklearn.metrics\n",
    "\n",
    "sklearn.metrics.mean_squared_error(movies_validation['Profitability_Ratio'], preds)"
   ]
  },
  {
   "cell_type": "code",
   "execution_count": 109,
   "metadata": {},
   "outputs": [
    {
     "data": {
      "text/plain": [
       "6.1270556853415981"
      ]
     },
     "execution_count": 109,
     "metadata": {},
     "output_type": "execute_result"
    }
   ],
   "source": [
    "m = ols('Profitability_Ratio ~ Budget_adjusted + Horror', subbos).fit()\n",
    "preds = m.predict(movies_validation)\n",
    "sklearn.metrics.mean_squared_error(movies_validation['Profitability_Ratio'], preds)\n",
    "                                   \n",
    "#The removal of Drama makes a little difference in the MSE."
   ]
  },
  {
   "cell_type": "code",
   "execution_count": 110,
   "metadata": {},
   "outputs": [
    {
     "data": {
      "text/plain": [
       "5.9204444335381305"
      ]
     },
     "execution_count": 110,
     "metadata": {},
     "output_type": "execute_result"
    }
   ],
   "source": [
    "m = ols('Profitability_Ratio ~ Budget_adjusted + Drama', subbos).fit()\n",
    "preds = m.predict(movies_validation)\n",
    "sklearn.metrics.mean_squared_error(movies_validation['Profitability_Ratio'], preds)\n",
    "\n",
    "#The model gets better when Horror is removed, which suggests that it was not significant in the \n",
    "#validation set. \n",
    "\n",
    "#This is the lowest MSE we will produce in this pre-release analysis, which suggests it may be the \n",
    "#most optimized model in this particular scenario. "
   ]
  },
  {
   "cell_type": "code",
   "execution_count": 111,
   "metadata": {},
   "outputs": [
    {
     "data": {
      "text/plain": [
       "6.4112367113024833"
      ]
     },
     "execution_count": 111,
     "metadata": {},
     "output_type": "execute_result"
    }
   ],
   "source": [
    "m = ols('Profitability_Ratio ~ Drama + Horror', subbos).fit()\n",
    "preds = m.predict(movies_validation)\n",
    "sklearn.metrics.mean_squared_error(movies_validation['Profitability_Ratio'], preds)\n",
    "#The removal of Budget makes the largest difference in the MSE. \n",
    "#All variables prove to be signficant, and the budget seems to matter the most."
   ]
  },
  {
   "cell_type": "code",
   "execution_count": 112,
   "metadata": {},
   "outputs": [
    {
     "data": {
      "text/plain": [
       "8.9227127466212988"
      ]
     },
     "execution_count": 112,
     "metadata": {},
     "output_type": "execute_result"
    }
   ],
   "source": [
    "m = ols('Profitability_Ratio ~ Budget_adjusted + Drama + Horror', subbos).fit()\n",
    "preds = m.predict(movies_test)\n",
    "sklearn.metrics.mean_squared_error(movies_test['Profitability_Ratio'], preds)"
   ]
  },
  {
   "cell_type": "code",
   "execution_count": 113,
   "metadata": {
    "collapsed": true
   },
   "outputs": [],
   "source": [
    "### Intentional Break between pre-release and post-release model### "
   ]
  },
  {
   "cell_type": "code",
   "execution_count": 114,
   "metadata": {},
   "outputs": [
    {
     "data": {
      "text/plain": [
       "\"Having what we need for the pre-release model, now let's check out our fully inclusive post-release model.\""
      ]
     },
     "execution_count": 114,
     "metadata": {},
     "output_type": "execute_result"
    }
   ],
   "source": [
    "\"\"\"Having what we need for the pre-release model, now let's check out our fully inclusive post-release model.\"\"\""
   ]
  },
  {
   "cell_type": "code",
   "execution_count": 115,
   "metadata": {},
   "outputs": [
    {
     "name": "stdout",
     "output_type": "stream",
     "text": [
      "                             OLS Regression Results                            \n",
      "===============================================================================\n",
      "Dep. Variable:     Profitability_Ratio   R-squared:                       0.094\n",
      "Model:                             OLS   Adj. R-squared:                  0.079\n",
      "Method:                  Least Squares   F-statistic:                     6.427\n",
      "Date:                 Tue, 17 Apr 2018   Prob (F-statistic):           3.97e-16\n",
      "Time:                         09:04:11   Log-Likelihood:                -3327.0\n",
      "No. Observations:                 1200   AIC:                             6694.\n",
      "Df Residuals:                     1180   BIC:                             6796.\n",
      "Df Model:                           19                                         \n",
      "Covariance Type:             nonrobust                                         \n",
      "===================================================================================\n",
      "                      coef    std err          t      P>|t|      [0.025      0.975]\n",
      "-----------------------------------------------------------------------------------\n",
      "Intercept           0.5561      0.823      0.676      0.499      -1.058       2.170\n",
      "imdb_rating         0.3939      0.137      2.873      0.004       0.125       0.663\n",
      "age                 0.0056      0.012      0.453      0.651      -0.019       0.030\n",
      "actor_score         0.1006      0.202      0.497      0.619      -0.296       0.498\n",
      "Budget_adjusted -4.838e-08    7.4e-09     -6.542      0.000   -6.29e-08   -3.39e-08\n",
      "runtime             0.0051      0.008      0.630      0.529      -0.011       0.021\n",
      "Adventure          -0.2197      0.345     -0.637      0.524      -0.896       0.457\n",
      "Animation           0.3849      0.594      0.649      0.517      -0.780       1.549\n",
      "Biography          -0.3750      0.454     -0.825      0.409      -1.267       0.516\n",
      "Drama              -0.9770      0.279     -3.506      0.000      -1.524      -0.430\n",
      "Family              0.1921      0.522      0.368      0.713      -0.832       1.217\n",
      "Horror              2.3221      0.436      5.332      0.000       1.468       3.177\n",
      "Mystery            -0.2515      0.438     -0.574      0.566      -1.111       0.608\n",
      "Romance            -0.0909      0.345     -0.264      0.792      -0.767       0.585\n",
      "SciFi              -0.2099      0.412     -0.510      0.610      -1.018       0.598\n",
      "Thriller           -0.3331      0.332     -1.003      0.316      -0.985       0.318\n",
      "G                   1.0368      0.696      1.490      0.136      -0.328       2.402\n",
      "PG                  0.4418      0.381      1.159      0.247      -0.306       1.190\n",
      "PG13                0.3902      0.321      1.217      0.224      -0.239       1.019\n",
      "R                  -0.0540      0.326     -0.165      0.869      -0.694       0.586\n",
      "NotRated           -1.2588      0.701     -1.797      0.073      -2.634       0.116\n",
      "==============================================================================\n",
      "Omnibus:                     2337.241   Durbin-Watson:                   1.994\n",
      "Prob(Omnibus):                  0.000   Jarque-Bera (JB):          5590664.686\n",
      "Skew:                          14.343   Prob(JB):                         0.00\n",
      "Kurtosis:                     336.152   Cond. No.                     4.17e+22\n",
      "==============================================================================\n",
      "\n",
      "Warnings:\n",
      "[1] Standard Errors assume that the covariance matrix of the errors is correctly specified.\n",
      "[2] The smallest eigenvalue is 9.76e-28. This might indicate that there are\n",
      "strong multicollinearity problems or that the design matrix is singular.\n"
     ]
    }
   ],
   "source": [
    "subbos = movies_train.loc[:, ('imdb_rating', 'actor_score', 'Budget_adjusted', 'runtime', 'Profitability_Ratio', 'Adventure', 'Animation', 'Biography', 'Drama',\n",
    "       'Family', 'Horror', 'Mystery', 'Romance', 'SciFi', 'Thriller', 'G', 'PG', 'PG13', 'R', 'NotRated', 'age')]\n",
    "\n",
    "m = ols('Profitability_Ratio ~ imdb_rating + age + actor_score + Budget_adjusted + runtime + Adventure + Animation + Biography + Drama + Family + Horror + Mystery + Romance + SciFi + Thriller + G + PG + PG13 + R + NotRated', subbos).fit()\n",
    "print(m.summary())\n"
   ]
  },
  {
   "cell_type": "code",
   "execution_count": 116,
   "metadata": {},
   "outputs": [
    {
     "name": "stdout",
     "output_type": "stream",
     "text": [
      "                             OLS Regression Results                            \n",
      "===============================================================================\n",
      "Dep. Variable:     Profitability_Ratio   R-squared:                       0.084\n",
      "Model:                             OLS   Adj. R-squared:                  0.081\n",
      "Method:                  Least Squares   F-statistic:                     27.39\n",
      "Date:                 Tue, 17 Apr 2018   Prob (F-statistic):           8.80e-22\n",
      "Time:                         09:04:12   Log-Likelihood:                -3333.4\n",
      "No. Observations:                 1200   AIC:                             6677.\n",
      "Df Residuals:                     1195   BIC:                             6702.\n",
      "Df Model:                            4                                         \n",
      "Covariance Type:             nonrobust                                         \n",
      "===================================================================================\n",
      "                      coef    std err          t      P>|t|      [0.025      0.975]\n",
      "-----------------------------------------------------------------------------------\n",
      "Intercept           1.2615      0.799      1.580      0.114      -0.305       2.828\n",
      "imdb_rating         0.3689      0.120      3.079      0.002       0.134       0.604\n",
      "Budget_adjusted -4.232e-08   5.82e-09     -7.269      0.000   -5.37e-08   -3.09e-08\n",
      "Drama              -0.9936      0.247     -4.020      0.000      -1.479      -0.509\n",
      "Horror              2.0357      0.415      4.906      0.000       1.222       2.850\n",
      "==============================================================================\n",
      "Omnibus:                     2322.879   Durbin-Watson:                   1.990\n",
      "Prob(Omnibus):                  0.000   Jarque-Bera (JB):          5390941.456\n",
      "Skew:                          14.153   Prob(JB):                         0.00\n",
      "Kurtosis:                     330.135   Cond. No.                     2.73e+08\n",
      "==============================================================================\n",
      "\n",
      "Warnings:\n",
      "[1] Standard Errors assume that the covariance matrix of the errors is correctly specified.\n",
      "[2] The condition number is large, 2.73e+08. This might indicate that there are\n",
      "strong multicollinearity or other numerical problems.\n"
     ]
    }
   ],
   "source": [
    "#Rating seems like it may matter, so let's trim excess and dig deeper. Age (year of release) seems to be irrelevant.\n",
    "\n",
    "m = ols('Profitability_Ratio ~ imdb_rating + Budget_adjusted + Drama + Horror', subbos).fit()\n",
    "print(m.summary())"
   ]
  },
  {
   "cell_type": "code",
   "execution_count": 117,
   "metadata": {},
   "outputs": [
    {
     "data": {
      "text/plain": [
       "5.8105154137138424"
      ]
     },
     "execution_count": 117,
     "metadata": {},
     "output_type": "execute_result"
    }
   ],
   "source": [
    "m = ols('Profitability_Ratio ~ imdb_rating + Budget_adjusted + Drama + Horror', subbos).fit()\n",
    "preds = m.predict(movies_validation)\n",
    "sklearn.metrics.mean_squared_error(movies_validation['Profitability_Ratio'], preds)"
   ]
  },
  {
   "cell_type": "code",
   "execution_count": 118,
   "metadata": {},
   "outputs": [
    {
     "data": {
      "text/plain": [
       "5.958149283359643"
      ]
     },
     "execution_count": 118,
     "metadata": {},
     "output_type": "execute_result"
    }
   ],
   "source": [
    "m = ols('Profitability_Ratio ~ imdb_rating + Budget_adjusted + Horror', subbos).fit()\n",
    "preds = m.predict(movies_validation)\n",
    "sklearn.metrics.mean_squared_error(movies_validation['Profitability_Ratio'], preds)"
   ]
  },
  {
   "cell_type": "code",
   "execution_count": 119,
   "metadata": {},
   "outputs": [
    {
     "data": {
      "text/plain": [
       "5.6824691159340599"
      ]
     },
     "execution_count": 119,
     "metadata": {},
     "output_type": "execute_result"
    }
   ],
   "source": [
    "m = ols('Profitability_Ratio ~ imdb_rating + Budget_adjusted + Drama', subbos).fit()\n",
    "preds = m.predict(movies_validation)\n",
    "sklearn.metrics.mean_squared_error(movies_validation['Profitability_Ratio'], preds)"
   ]
  },
  {
   "cell_type": "code",
   "execution_count": 120,
   "metadata": {},
   "outputs": [
    {
     "data": {
      "text/plain": [
       "6.2052227924397387"
      ]
     },
     "execution_count": 120,
     "metadata": {},
     "output_type": "execute_result"
    }
   ],
   "source": [
    "m = ols('Profitability_Ratio ~ imdb_rating + Drama + Horror', subbos).fit()\n",
    "preds = m.predict(movies_validation)\n",
    "sklearn.metrics.mean_squared_error(movies_validation['Profitability_Ratio'], preds)"
   ]
  },
  {
   "cell_type": "code",
   "execution_count": 121,
   "metadata": {},
   "outputs": [
    {
     "data": {
      "text/plain": [
       "6.0960293960351244"
      ]
     },
     "execution_count": 121,
     "metadata": {},
     "output_type": "execute_result"
    }
   ],
   "source": [
    "m = ols('Profitability_Ratio ~ Budget_adjusted + Drama + Horror', subbos).fit()\n",
    "preds = m.predict(movies_validation)\n",
    "sklearn.metrics.mean_squared_error(movies_validation['Profitability_Ratio'], preds)\n",
    "\n",
    "#Out of all variables, Drama seems to make nearly no difference when it's removed. \n",
    "#Will remove from this model."
   ]
  },
  {
   "cell_type": "code",
   "execution_count": 122,
   "metadata": {},
   "outputs": [
    {
     "data": {
      "text/plain": [
       "8.647193562821025"
      ]
     },
     "execution_count": 122,
     "metadata": {},
     "output_type": "execute_result"
    }
   ],
   "source": [
    "#Test set\n",
    "\n",
    "m = ols('Profitability_Ratio ~ imdb_rating + Budget_adjusted + Horror', subbos).fit()\n",
    "preds = m.predict(movies_test)\n",
    "sklearn.metrics.mean_squared_error(movies_test['Profitability_Ratio'], preds)\n",
    "\n",
    "#The model does slightly better after having imdb_rating involved"
   ]
  },
  {
   "cell_type": "code",
   "execution_count": 123,
   "metadata": {
    "collapsed": true
   },
   "outputs": [],
   "source": [
    "#The small data size leads to a higher p value for our imdb_rating and \n",
    "#Adjusted budget, factors likely signficant in the grand scheme of things.."
   ]
  },
  {
   "cell_type": "code",
   "execution_count": null,
   "metadata": {
    "collapsed": true
   },
   "outputs": [],
   "source": [
    "#To sum up all of the findings in this study, out of the variables of release date, genre, MPAA censor ratings,\n",
    "#IMDB quality ratings, production budget, and length of movie, the ONLY signficant prediction variables for whether \n",
    "#or not would be profitable were production budget and IMDB ratings (and possibly the Horror genre).\n",
    "#Despite drama being significant on its own, it did not add anything significant to the model.\n",
    "#Good stuff!"
   ]
  }
 ],
 "metadata": {
  "kernelspec": {
   "display_name": "Python 3",
   "language": "python",
   "name": "python3"
  },
  "language_info": {
   "codemirror_mode": {
    "name": "ipython",
    "version": 3
   },
   "file_extension": ".py",
   "mimetype": "text/x-python",
   "name": "python",
   "nbconvert_exporter": "python",
   "pygments_lexer": "ipython3",
   "version": "3.6.2"
  }
 },
 "nbformat": 4,
 "nbformat_minor": 2
}
